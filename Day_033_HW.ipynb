{
 "cells": [
  {
   "cell_type": "markdown",
   "metadata": {},
   "source": [
    "## 練習時間"
   ]
  },
  {
   "cell_type": "markdown",
   "metadata": {},
   "source": [
    "請觀看李宏毅教授以神奇寶貝進化 CP 值預測的範例，解說何謂機器學習與過擬合。並回答以下問題"
   ]
  },
  {
   "cell_type": "markdown",
   "metadata": {},
   "source": [
    "[youtube](https://www.youtube.com/watch?v=fegAeph9UaA)"
   ]
  },
  {
   "cell_type": "markdown",
   "metadata": {},
   "source": [
    "### 1. 模型的泛化能力 (generalization) 是指什麼？ \n",
    "模型對未知資料的預測能力。機器學習的目的是學習數據背後隱含的規律，對具有同規律的新資料，能夠進行預測。\n",
    "\n",
    "### 2. 分類問題與回歸問題分別可用的目標函數有哪些？\n",
    "當目標為連續數值，為回歸問題；當目標為離散數值，則為分類問題。\n",
    "\n",
    "今天常見的迴歸分析常納入時間的變數做分析。應用領域如：股票走勢預測、不同時段的交通狀況、原物料價格變化對消費的影響…等。\n",
    "\n",
    "金融業也常透過分類機制去決定核貸與否、放款的金額與利率等；藉由年齡、年收入、教育程度、還款紀錄等作為變數，以預測存戶的信用評等。\n",
    "\n",
    "分類問題可使用交叉商 (Cross Entropy)。回歸問題可使用均方差 (Mean Square Error)"
   ]
  }
 ],
 "metadata": {
  "kernelspec": {
   "display_name": "Python 3",
   "language": "python",
   "name": "python3"
  },
  "language_info": {
   "codemirror_mode": {
    "name": "ipython",
    "version": 3
   },
   "file_extension": ".py",
   "mimetype": "text/x-python",
   "name": "python",
   "nbconvert_exporter": "python",
   "pygments_lexer": "ipython3",
   "version": "3.7.4"
  }
 },
 "nbformat": 4,
 "nbformat_minor": 2
}
