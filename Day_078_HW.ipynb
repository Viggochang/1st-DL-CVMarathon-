{
 "cells": [
  {
   "cell_type": "markdown",
   "metadata": {},
   "source": [
    "## Work\n",
    "1. 請嘗試將 preproc_x 替換成以每筆資料的 min/max 進行標準化至 -1 ~ 1 間，再進行訓練\n",
    "2. 請嘗試將 mlp 疊更深 (e.g 5~10 層)，進行訓練後觀察 learning curve 的走勢\n",
    "3. (optional) 請改用 GPU 進行訓練 (如果你有 GPU 的話)，比較使用 CPU 與 GPU 的訓練速度"
   ]
  },
  {
   "cell_type": "code",
   "execution_count": 1,
   "metadata": {},
   "outputs": [],
   "source": [
    "## \n",
    "\"\"\"\n",
    "Your code here (optional)\n",
    "確認硬體資源\n",
    "\"\"\"\n"
   ]
  },
  {
   "cell_type": "code",
   "execution_count": 1,
   "metadata": {},
   "outputs": [],
   "source": [
    "import os\n",
    "import keras\n",
    "\n",
    "# 請嘗試設定 GPU：os.environ\n",
    "os.environ['CUDA_VISIBLE_DEVICES'] = \"\""
   ]
  },
  {
   "cell_type": "code",
   "execution_count": 45,
   "metadata": {},
   "outputs": [],
   "source": [
    "train, test = keras.datasets.cifar10.load_data()"
   ]
  },
  {
   "cell_type": "code",
   "execution_count": 59,
   "metadata": {},
   "outputs": [],
   "source": [
    "## 資料前處理\n",
    "\"\"\"\n",
    "Your code here\n",
    "\"\"\"\n",
    "def preproc_x(x, flatten=True): # x 正規化\n",
    "    x = (x-x.min())/(x.max()-x.min())\n",
    "    if flatten:\n",
    "        x = x.reshape(len(x), -1)\n",
    "    return x\n",
    "\n",
    "def preproc_y(y, num_classes = 10): # y OneHotCoding\n",
    "    if y.shape[-1] == 1:\n",
    "        y = keras.utils.to_categorical(y, num_classes)\n",
    "    return y"
   ]
  },
  {
   "cell_type": "code",
   "execution_count": 60,
   "metadata": {},
   "outputs": [],
   "source": [
    "x_train, y_train = train\n",
    "x_test, y_test = test\n",
    "\n",
    "# Preproc the inputs\n",
    "x_train = preproc_x(x_train)\n",
    "x_test = preproc_x(x_test)\n",
    "\n",
    "# Preprc the outputs\n",
    "y_train = preproc_y(y_train)\n",
    "y_test = preproc_y(y_test)"
   ]
  },
  {
   "cell_type": "code",
   "execution_count": 62,
   "metadata": {},
   "outputs": [
    {
     "name": "stdout",
     "output_type": "stream",
     "text": [
      "Model: \"functional_5\"\n",
      "_________________________________________________________________\n",
      "Layer (type)                 Output Shape              Param #   \n",
      "=================================================================\n",
      "input_11 (InputLayer)        [(None, 3072)]            0         \n",
      "_________________________________________________________________\n",
      "hidden_layer1 (Dense)        (None, 512)               1573376   \n",
      "_________________________________________________________________\n",
      "hidden_layer2 (Dense)        (None, 256)               131328    \n",
      "_________________________________________________________________\n",
      "hidden_layer3 (Dense)        (None, 128)               32896     \n",
      "_________________________________________________________________\n",
      "hidden_layer4 (Dense)        (None, 64)                8256      \n",
      "_________________________________________________________________\n",
      "hidden_layer5 (Dense)        (None, 32)                2080      \n",
      "_________________________________________________________________\n",
      "dense_9 (Dense)              (None, 10)                330       \n",
      "=================================================================\n",
      "Total params: 1,748,266\n",
      "Trainable params: 1,748,266\n",
      "Non-trainable params: 0\n",
      "_________________________________________________________________\n"
     ]
    }
   ],
   "source": [
    "\"\"\"Code Here\n",
    "建立你的神經網路\n",
    "\"\"\"\n",
    "def build_mlp(input_shape, output_units = 10, num_neurons = [512, 256, 128, 64, 32]):\n",
    "    \n",
    "    input_layer = keras.layers.Input(input_shape)\n",
    "    \n",
    "    for i, n_units in enumerate(num_neurons):\n",
    "        if i == 0:\n",
    "            x = keras.layers.Dense(units = n_units, activation = \"relu\", name = \"hidden_layer\"+str(i+1))(input_layer)\n",
    "        else:\n",
    "            x = keras.layers.Dense(units = n_units, activation = \"relu\", name = \"hidden_layer\"+str(i+1))(x)\n",
    "         \n",
    "    out = keras.layers.Dense(units = output_units, activation = \"softmax\")(x)\n",
    "    \n",
    "    model = keras.models.Model(inputs = [input_layer], outputs = [out])\n",
    "    \n",
    "    return model\n",
    "\n",
    "model = build_mlp(input_shape = x_train.shape[1:])\n",
    "model.summary()\n"
   ]
  },
  {
   "cell_type": "code",
   "execution_count": 63,
   "metadata": {},
   "outputs": [],
   "source": [
    "## 超參數設定\n",
    "LEARNING_RATE = 0.001\n",
    "EPOCHS = 100\n",
    "BATCH_SIZE = 256"
   ]
  },
  {
   "cell_type": "code",
   "execution_count": 64,
   "metadata": {},
   "outputs": [],
   "source": [
    "optimizer = keras.optimizers.Adam(lr=LEARNING_RATE)\n",
    "model.compile(loss=\"categorical_crossentropy\", metrics=[\"accuracy\"], optimizer=optimizer)"
   ]
  },
  {
   "cell_type": "code",
   "execution_count": 65,
   "metadata": {
    "scrolled": true
   },
   "outputs": [
    {
     "name": "stdout",
     "output_type": "stream",
     "text": [
      "Epoch 1/100\n",
      "196/196 [==============================] - 2s 12ms/step - loss: 1.9743 - accuracy: 0.2804 - val_loss: 1.8378 - val_accuracy: 0.3452\n",
      "Epoch 2/100\n",
      "196/196 [==============================] - 2s 11ms/step - loss: 1.7485 - accuracy: 0.3714 - val_loss: 1.7014 - val_accuracy: 0.3904\n",
      "Epoch 3/100\n",
      "196/196 [==============================] - 2s 11ms/step - loss: 1.6626 - accuracy: 0.4060 - val_loss: 1.5989 - val_accuracy: 0.4325\n",
      "Epoch 4/100\n",
      "196/196 [==============================] - 2s 11ms/step - loss: 1.5837 - accuracy: 0.4326 - val_loss: 1.5836 - val_accuracy: 0.4368\n",
      "Epoch 5/100\n",
      "196/196 [==============================] - 2s 11ms/step - loss: 1.5497 - accuracy: 0.4468 - val_loss: 1.5686 - val_accuracy: 0.4430\n",
      "Epoch 6/100\n",
      "196/196 [==============================] - 2s 11ms/step - loss: 1.4919 - accuracy: 0.4672 - val_loss: 1.5100 - val_accuracy: 0.4620\n",
      "Epoch 7/100\n",
      "196/196 [==============================] - 2s 11ms/step - loss: 1.4691 - accuracy: 0.4773 - val_loss: 1.5086 - val_accuracy: 0.4637\n",
      "Epoch 8/100\n",
      "196/196 [==============================] - 2s 11ms/step - loss: 1.4390 - accuracy: 0.4855 - val_loss: 1.4608 - val_accuracy: 0.4822\n",
      "Epoch 9/100\n",
      "196/196 [==============================] - 2s 11ms/step - loss: 1.4116 - accuracy: 0.4967 - val_loss: 1.4792 - val_accuracy: 0.4709\n",
      "Epoch 10/100\n",
      "196/196 [==============================] - 2s 11ms/step - loss: 1.3788 - accuracy: 0.5078 - val_loss: 1.4249 - val_accuracy: 0.4915\n",
      "Epoch 11/100\n",
      "196/196 [==============================] - 2s 12ms/step - loss: 1.3501 - accuracy: 0.5186 - val_loss: 1.4326 - val_accuracy: 0.4949\n",
      "Epoch 12/100\n",
      "196/196 [==============================] - 2s 12ms/step - loss: 1.3238 - accuracy: 0.5292 - val_loss: 1.4156 - val_accuracy: 0.4975\n",
      "Epoch 13/100\n",
      "196/196 [==============================] - 2s 11ms/step - loss: 1.3163 - accuracy: 0.5302 - val_loss: 1.3797 - val_accuracy: 0.5154\n",
      "Epoch 14/100\n",
      "196/196 [==============================] - 2s 11ms/step - loss: 1.2821 - accuracy: 0.5433 - val_loss: 1.4298 - val_accuracy: 0.4952\n",
      "Epoch 15/100\n",
      "196/196 [==============================] - 2s 11ms/step - loss: 1.2618 - accuracy: 0.5520 - val_loss: 1.4063 - val_accuracy: 0.5080\n",
      "Epoch 16/100\n",
      "196/196 [==============================] - 2s 11ms/step - loss: 1.2388 - accuracy: 0.5578 - val_loss: 1.3784 - val_accuracy: 0.5140\n",
      "Epoch 17/100\n",
      "196/196 [==============================] - 2s 11ms/step - loss: 1.2146 - accuracy: 0.5660 - val_loss: 1.3593 - val_accuracy: 0.5278\n",
      "Epoch 18/100\n",
      "196/196 [==============================] - 2s 12ms/step - loss: 1.2103 - accuracy: 0.5692 - val_loss: 1.3876 - val_accuracy: 0.5085\n",
      "Epoch 19/100\n",
      "196/196 [==============================] - 2s 11ms/step - loss: 1.1796 - accuracy: 0.5791 - val_loss: 1.3654 - val_accuracy: 0.5189\n",
      "Epoch 20/100\n",
      "196/196 [==============================] - 2s 11ms/step - loss: 1.1552 - accuracy: 0.5884 - val_loss: 1.3483 - val_accuracy: 0.5278\n",
      "Epoch 21/100\n",
      "196/196 [==============================] - 2s 11ms/step - loss: 1.1406 - accuracy: 0.5913 - val_loss: 1.3686 - val_accuracy: 0.5241\n",
      "Epoch 22/100\n",
      "196/196 [==============================] - 2s 11ms/step - loss: 1.1191 - accuracy: 0.6005 - val_loss: 1.4094 - val_accuracy: 0.5175\n",
      "Epoch 23/100\n",
      "196/196 [==============================] - 2s 11ms/step - loss: 1.0961 - accuracy: 0.6087 - val_loss: 1.3832 - val_accuracy: 0.5252\n",
      "Epoch 24/100\n",
      "196/196 [==============================] - 2s 11ms/step - loss: 1.0942 - accuracy: 0.6070 - val_loss: 1.3776 - val_accuracy: 0.5217\n",
      "Epoch 25/100\n",
      "196/196 [==============================] - 2s 11ms/step - loss: 1.0642 - accuracy: 0.6188 - val_loss: 1.3950 - val_accuracy: 0.5208\n",
      "Epoch 26/100\n",
      "196/196 [==============================] - 2s 12ms/step - loss: 1.0432 - accuracy: 0.6258 - val_loss: 1.4176 - val_accuracy: 0.5100\n",
      "Epoch 27/100\n",
      "196/196 [==============================] - 2s 11ms/step - loss: 1.0237 - accuracy: 0.6333 - val_loss: 1.3981 - val_accuracy: 0.5254\n",
      "Epoch 28/100\n",
      "196/196 [==============================] - 2s 12ms/step - loss: 1.0151 - accuracy: 0.6375 - val_loss: 1.3940 - val_accuracy: 0.5276\n",
      "Epoch 29/100\n",
      "196/196 [==============================] - 2s 12ms/step - loss: 0.9888 - accuracy: 0.6486 - val_loss: 1.3995 - val_accuracy: 0.5301\n",
      "Epoch 30/100\n",
      "196/196 [==============================] - 2s 12ms/step - loss: 0.9788 - accuracy: 0.6482 - val_loss: 1.4076 - val_accuracy: 0.5340\n",
      "Epoch 31/100\n",
      "196/196 [==============================] - 2s 11ms/step - loss: 0.9636 - accuracy: 0.6543 - val_loss: 1.4238 - val_accuracy: 0.5208\n",
      "Epoch 32/100\n",
      "196/196 [==============================] - 2s 12ms/step - loss: 0.9493 - accuracy: 0.6606 - val_loss: 1.4255 - val_accuracy: 0.5300\n",
      "Epoch 33/100\n",
      "196/196 [==============================] - 2s 12ms/step - loss: 0.9262 - accuracy: 0.6685 - val_loss: 1.4586 - val_accuracy: 0.5270\n",
      "Epoch 34/100\n",
      "196/196 [==============================] - 2s 12ms/step - loss: 0.9162 - accuracy: 0.6709 - val_loss: 1.4743 - val_accuracy: 0.5245\n",
      "Epoch 35/100\n",
      "196/196 [==============================] - 2s 12ms/step - loss: 0.8972 - accuracy: 0.6785 - val_loss: 1.4818 - val_accuracy: 0.5274\n",
      "Epoch 36/100\n",
      "196/196 [==============================] - 2s 11ms/step - loss: 0.8718 - accuracy: 0.6893 - val_loss: 1.5098 - val_accuracy: 0.5181\n",
      "Epoch 37/100\n",
      "196/196 [==============================] - 2s 11ms/step - loss: 0.8566 - accuracy: 0.6931 - val_loss: 1.5209 - val_accuracy: 0.5225\n",
      "Epoch 38/100\n",
      "196/196 [==============================] - 2s 12ms/step - loss: 0.8568 - accuracy: 0.6917 - val_loss: 1.4985 - val_accuracy: 0.5257\n",
      "Epoch 39/100\n",
      "196/196 [==============================] - 2s 11ms/step - loss: 0.8310 - accuracy: 0.7033 - val_loss: 1.5167 - val_accuracy: 0.5250\n",
      "Epoch 40/100\n",
      "196/196 [==============================] - 2s 11ms/step - loss: 0.8158 - accuracy: 0.7082 - val_loss: 1.5350 - val_accuracy: 0.5283\n",
      "Epoch 41/100\n",
      "196/196 [==============================] - 2s 12ms/step - loss: 0.7917 - accuracy: 0.7160 - val_loss: 1.5774 - val_accuracy: 0.5137\n",
      "Epoch 42/100\n",
      "196/196 [==============================] - 2s 12ms/step - loss: 0.7860 - accuracy: 0.7182 - val_loss: 1.6203 - val_accuracy: 0.5177\n",
      "Epoch 43/100\n",
      "196/196 [==============================] - 2s 11ms/step - loss: 0.7713 - accuracy: 0.7232 - val_loss: 1.6195 - val_accuracy: 0.5164\n",
      "Epoch 44/100\n",
      "196/196 [==============================] - 2s 12ms/step - loss: 0.7574 - accuracy: 0.7292 - val_loss: 1.6275 - val_accuracy: 0.5241\n",
      "Epoch 45/100\n",
      "196/196 [==============================] - 2s 11ms/step - loss: 0.7498 - accuracy: 0.7312 - val_loss: 1.6958 - val_accuracy: 0.5160\n",
      "Epoch 46/100\n",
      "196/196 [==============================] - 2s 11ms/step - loss: 0.7242 - accuracy: 0.7407 - val_loss: 1.6680 - val_accuracy: 0.5190\n",
      "Epoch 47/100\n",
      "196/196 [==============================] - 2s 11ms/step - loss: 0.7162 - accuracy: 0.7438 - val_loss: 1.7572 - val_accuracy: 0.5072\n",
      "Epoch 48/100\n",
      "196/196 [==============================] - 2s 11ms/step - loss: 0.6973 - accuracy: 0.7504 - val_loss: 1.7242 - val_accuracy: 0.5213\n",
      "Epoch 49/100\n",
      "196/196 [==============================] - 2s 11ms/step - loss: 0.6999 - accuracy: 0.7478 - val_loss: 1.7421 - val_accuracy: 0.5115\n",
      "Epoch 50/100\n",
      "196/196 [==============================] - 2s 11ms/step - loss: 0.6860 - accuracy: 0.7546 - val_loss: 1.7370 - val_accuracy: 0.5175\n",
      "Epoch 51/100\n",
      "196/196 [==============================] - 2s 11ms/step - loss: 0.6667 - accuracy: 0.7610 - val_loss: 1.8350 - val_accuracy: 0.5174\n",
      "Epoch 52/100\n",
      "196/196 [==============================] - 2s 11ms/step - loss: 0.6561 - accuracy: 0.7653 - val_loss: 1.8420 - val_accuracy: 0.5127\n",
      "Epoch 53/100\n",
      "196/196 [==============================] - 2s 11ms/step - loss: 0.6444 - accuracy: 0.7698 - val_loss: 1.8535 - val_accuracy: 0.5139\n",
      "Epoch 54/100\n",
      "196/196 [==============================] - 2s 11ms/step - loss: 0.6255 - accuracy: 0.7757 - val_loss: 1.8816 - val_accuracy: 0.5141\n",
      "Epoch 55/100\n",
      "196/196 [==============================] - 2s 12ms/step - loss: 0.6236 - accuracy: 0.7774 - val_loss: 1.9119 - val_accuracy: 0.5170\n",
      "Epoch 56/100\n",
      "196/196 [==============================] - 2s 12ms/step - loss: 0.6015 - accuracy: 0.7847 - val_loss: 1.9427 - val_accuracy: 0.5129\n",
      "Epoch 57/100\n"
     ]
    },
    {
     "name": "stdout",
     "output_type": "stream",
     "text": [
      "196/196 [==============================] - 2s 12ms/step - loss: 0.5908 - accuracy: 0.7879 - val_loss: 1.9277 - val_accuracy: 0.5130\n",
      "Epoch 58/100\n",
      "196/196 [==============================] - 2s 11ms/step - loss: 0.5887 - accuracy: 0.7878 - val_loss: 1.9698 - val_accuracy: 0.5048\n",
      "Epoch 59/100\n",
      "196/196 [==============================] - 2s 11ms/step - loss: 0.5910 - accuracy: 0.7870 - val_loss: 2.0871 - val_accuracy: 0.4932\n",
      "Epoch 60/100\n",
      "196/196 [==============================] - 2s 11ms/step - loss: 0.5773 - accuracy: 0.7929 - val_loss: 2.0771 - val_accuracy: 0.5001\n",
      "Epoch 61/100\n",
      "196/196 [==============================] - 2s 11ms/step - loss: 0.5586 - accuracy: 0.7994 - val_loss: 2.0523 - val_accuracy: 0.5068\n",
      "Epoch 62/100\n",
      "196/196 [==============================] - 2s 11ms/step - loss: 0.5499 - accuracy: 0.8005 - val_loss: 2.0905 - val_accuracy: 0.5134\n",
      "Epoch 63/100\n",
      "196/196 [==============================] - 2s 11ms/step - loss: 0.5376 - accuracy: 0.8072 - val_loss: 2.1268 - val_accuracy: 0.5090\n",
      "Epoch 64/100\n",
      "196/196 [==============================] - 2s 11ms/step - loss: 0.5346 - accuracy: 0.8077 - val_loss: 2.1792 - val_accuracy: 0.5042\n",
      "Epoch 65/100\n",
      "196/196 [==============================] - 2s 11ms/step - loss: 0.5272 - accuracy: 0.8106 - val_loss: 2.1742 - val_accuracy: 0.5058\n",
      "Epoch 66/100\n",
      "196/196 [==============================] - 2s 11ms/step - loss: 0.5154 - accuracy: 0.8138 - val_loss: 2.1654 - val_accuracy: 0.5100\n",
      "Epoch 67/100\n",
      "196/196 [==============================] - 2s 12ms/step - loss: 0.5065 - accuracy: 0.8186 - val_loss: 2.1649 - val_accuracy: 0.5011\n",
      "Epoch 68/100\n",
      "196/196 [==============================] - 2s 11ms/step - loss: 0.5015 - accuracy: 0.8186 - val_loss: 2.2148 - val_accuracy: 0.5066\n",
      "Epoch 69/100\n",
      "196/196 [==============================] - 2s 11ms/step - loss: 0.4843 - accuracy: 0.8247 - val_loss: 2.2281 - val_accuracy: 0.5075\n",
      "Epoch 70/100\n",
      "196/196 [==============================] - 2s 11ms/step - loss: 0.4968 - accuracy: 0.8215 - val_loss: 2.2282 - val_accuracy: 0.5119\n",
      "Epoch 71/100\n",
      "196/196 [==============================] - 2s 12ms/step - loss: 0.4845 - accuracy: 0.8267 - val_loss: 2.3378 - val_accuracy: 0.5009\n",
      "Epoch 72/100\n",
      "196/196 [==============================] - 2s 11ms/step - loss: 0.4763 - accuracy: 0.8288 - val_loss: 2.3491 - val_accuracy: 0.5149\n",
      "Epoch 73/100\n",
      "196/196 [==============================] - 2s 11ms/step - loss: 0.4506 - accuracy: 0.8376 - val_loss: 2.3841 - val_accuracy: 0.5132\n",
      "Epoch 74/100\n",
      "196/196 [==============================] - 2s 11ms/step - loss: 0.4376 - accuracy: 0.8434 - val_loss: 2.4507 - val_accuracy: 0.5009\n",
      "Epoch 75/100\n",
      "196/196 [==============================] - 2s 11ms/step - loss: 0.4658 - accuracy: 0.8313 - val_loss: 2.4055 - val_accuracy: 0.5085\n",
      "Epoch 76/100\n",
      "196/196 [==============================] - 2s 11ms/step - loss: 0.4459 - accuracy: 0.8399 - val_loss: 2.4269 - val_accuracy: 0.5089\n",
      "Epoch 77/100\n",
      "196/196 [==============================] - 2s 12ms/step - loss: 0.4359 - accuracy: 0.8434 - val_loss: 2.4561 - val_accuracy: 0.5069\n",
      "Epoch 78/100\n",
      "196/196 [==============================] - 2s 11ms/step - loss: 0.4430 - accuracy: 0.8401 - val_loss: 2.4734 - val_accuracy: 0.5090\n",
      "Epoch 79/100\n",
      "196/196 [==============================] - 2s 12ms/step - loss: 0.4422 - accuracy: 0.8419 - val_loss: 2.4791 - val_accuracy: 0.5022\n",
      "Epoch 80/100\n",
      "196/196 [==============================] - 2s 11ms/step - loss: 0.4338 - accuracy: 0.8440 - val_loss: 2.5738 - val_accuracy: 0.5018\n",
      "Epoch 81/100\n",
      "196/196 [==============================] - 2s 12ms/step - loss: 0.3982 - accuracy: 0.8565 - val_loss: 2.5266 - val_accuracy: 0.5081\n",
      "Epoch 82/100\n",
      "196/196 [==============================] - 2s 12ms/step - loss: 0.3769 - accuracy: 0.8658 - val_loss: 2.7113 - val_accuracy: 0.5008\n",
      "Epoch 83/100\n",
      "196/196 [==============================] - 2s 11ms/step - loss: 0.3972 - accuracy: 0.8574 - val_loss: 2.6367 - val_accuracy: 0.5119\n",
      "Epoch 84/100\n",
      "196/196 [==============================] - 2s 12ms/step - loss: 0.4085 - accuracy: 0.8533 - val_loss: 2.6902 - val_accuracy: 0.4984\n",
      "Epoch 85/100\n",
      "196/196 [==============================] - 2s 11ms/step - loss: 0.3994 - accuracy: 0.8567 - val_loss: 2.6794 - val_accuracy: 0.5023\n",
      "Epoch 86/100\n",
      "196/196 [==============================] - 2s 11ms/step - loss: 0.3957 - accuracy: 0.8582 - val_loss: 2.7221 - val_accuracy: 0.5036\n",
      "Epoch 87/100\n",
      "196/196 [==============================] - 2s 11ms/step - loss: 0.4048 - accuracy: 0.8542 - val_loss: 2.7514 - val_accuracy: 0.4986\n",
      "Epoch 88/100\n",
      "196/196 [==============================] - 2s 11ms/step - loss: 0.3780 - accuracy: 0.8642 - val_loss: 2.9193 - val_accuracy: 0.5005\n",
      "Epoch 89/100\n",
      "196/196 [==============================] - 2s 12ms/step - loss: 0.3699 - accuracy: 0.8660 - val_loss: 2.8149 - val_accuracy: 0.5006\n",
      "Epoch 90/100\n",
      "196/196 [==============================] - 2s 11ms/step - loss: 0.3667 - accuracy: 0.8694 - val_loss: 2.7874 - val_accuracy: 0.5077\n",
      "Epoch 91/100\n",
      "196/196 [==============================] - 2s 12ms/step - loss: 0.3418 - accuracy: 0.8783 - val_loss: 2.9470 - val_accuracy: 0.5016\n",
      "Epoch 92/100\n",
      "196/196 [==============================] - 2s 12ms/step - loss: 0.3653 - accuracy: 0.8675 - val_loss: 2.9211 - val_accuracy: 0.5019\n",
      "Epoch 93/100\n",
      "196/196 [==============================] - 2s 11ms/step - loss: 0.3697 - accuracy: 0.8662 - val_loss: 2.9070 - val_accuracy: 0.5025\n",
      "Epoch 94/100\n",
      "196/196 [==============================] - 2s 11ms/step - loss: 0.3451 - accuracy: 0.8759 - val_loss: 2.9767 - val_accuracy: 0.4942\n",
      "Epoch 95/100\n",
      "196/196 [==============================] - 2s 12ms/step - loss: 0.3704 - accuracy: 0.8674 - val_loss: 2.9822 - val_accuracy: 0.4992\n",
      "Epoch 96/100\n",
      "196/196 [==============================] - 2s 11ms/step - loss: 0.3440 - accuracy: 0.8763 - val_loss: 3.0762 - val_accuracy: 0.4940\n",
      "Epoch 97/100\n",
      "196/196 [==============================] - 2s 12ms/step - loss: 0.3425 - accuracy: 0.8771 - val_loss: 3.0618 - val_accuracy: 0.5001\n",
      "Epoch 98/100\n",
      "196/196 [==============================] - 2s 11ms/step - loss: 0.3206 - accuracy: 0.8840 - val_loss: 3.1060 - val_accuracy: 0.5007\n",
      "Epoch 99/100\n",
      "196/196 [==============================] - 2s 12ms/step - loss: 0.3377 - accuracy: 0.8779 - val_loss: 3.1473 - val_accuracy: 0.4946\n",
      "Epoch 100/100\n",
      "196/196 [==============================] - 2s 11ms/step - loss: 0.3354 - accuracy: 0.8789 - val_loss: 3.0653 - val_accuracy: 0.4980\n"
     ]
    },
    {
     "data": {
      "text/plain": [
       "<tensorflow.python.keras.callbacks.History at 0x7ff3e7546610>"
      ]
     },
     "execution_count": 65,
     "metadata": {},
     "output_type": "execute_result"
    }
   ],
   "source": [
    "model.fit(x_train, y_train, \n",
    "          epochs=EPOCHS, \n",
    "          batch_size=BATCH_SIZE, \n",
    "          validation_data=(x_test, y_test), \n",
    "          shuffle=True)"
   ]
  },
  {
   "cell_type": "code",
   "execution_count": 53,
   "metadata": {},
   "outputs": [
    {
     "data": {
      "image/png": "[encoded data removed]",
      "text/plain": [
       "<Figure size 432x288 with 1 Axes>"
      ]
     },
     "metadata": {
      "needs_background": "light"
     },
     "output_type": "display_data"
    },
    {
     "data": {
      "image/png": "[encoded data removed]",
      "text/plain": [
       "<Figure size 432x288 with 1 Axes>"
      ]
     },
     "metadata": {
      "needs_background": "light"
     },
     "output_type": "display_data"
    }
   ],
   "source": [
    "import matplotlib.pyplot as plt\n",
    "\n",
    "\n",
    "train_loss = model.history.history[\"loss\"]\n",
    "valid_loss = model.history.history[\"val_loss\"]\n",
    "\n",
    "train_acc = model.history.history[\"accuracy\"]\n",
    "valid_acc = model.history.history[\"val_accuracy\"]\n",
    "\n",
    "plt.plot(range(len(train_loss)), train_loss, label=\"train loss\")\n",
    "plt.plot(range(len(valid_loss)), valid_loss, label=\"valid loss\")\n",
    "plt.legend()\n",
    "plt.title(\"Loss\")\n",
    "plt.show()\n",
    "\n",
    "plt.plot(range(len(train_acc)), train_acc, label=\"train accuracy\")\n",
    "plt.plot(range(len(valid_acc)), valid_acc, label=\"valid accuracy\")\n",
    "plt.legend()\n",
    "plt.title(\"Accuracy\")\n",
    "plt.show()"
   ]
  }
 ],
 "metadata": {
  "kernelspec": {
   "display_name": "Python 3",
   "language": "python",
   "name": "python3"
  },
  "language_info": {
   "codemirror_mode": {
    "name": "ipython",
    "version": 3
   },
   "file_extension": ".py",
   "mimetype": "text/x-python",
   "name": "python",
   "nbconvert_exporter": "python",
   "pygments_lexer": "ipython3",
   "version": "3.8.3"
  }
 },
 "nbformat": 4,
 "nbformat_minor": 2
}
