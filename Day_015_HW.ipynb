{
 "cells": [
  {
   "cell_type": "markdown",
   "metadata": {
    "collapsed": true
   },
   "source": [
    "# [作業目標]\n",
    "- 請同學試著使用 pandas.corr() 這個函數來顯示相關係數並加以觀察結果 \n",
    "- 思考1 : 使用 pandas 有沒有什麼寫法, 可以顯示欄位中最大的幾筆, 以及最小幾筆呢? (Hint: 排序後列出前幾筆/後幾筆)\n",
    "- 思考2 : 試著使用散佈圖, 顯示相關度最大/最小的特徵與目標值的關係, 如果圖形不明顯, 是否有調整的方法?"
   ]
  },
  {
   "cell_type": "markdown",
   "metadata": {
    "collapsed": true
   },
   "source": [
    "# [作業重點]\n",
    "- 綜合前幾單元的作法, 試試看是否能夠用繪圖顯示出特徵與目標的相關性"
   ]
  },
  {
   "cell_type": "code",
   "execution_count": 1,
   "metadata": {},
   "outputs": [],
   "source": [
    "# 載入需要的套件\n",
    "import os\n",
    "import numpy as np\n",
    "import pandas as pd\n",
    "import matplotlib.pyplot as plt\n",
    "%matplotlib inline\n",
    "\n",
    "# 設定 data_path\n",
<<<<<<< HEAD
    "dir_data = '/Users/shao/learning_python/ML marathon/'"
=======
    "dir_data = 'D:\\\\learning_ai\\\\D15\\\\'"
>>>>>>> ab7e9e6f95f5cadbd4c521ecb65e065459be2608
   ]
  },
  {
   "cell_type": "code",
   "execution_count": 2,
   "metadata": {},
   "outputs": [
    {
     "data": {
      "text/plain": [
       "(307511, 122)"
      ]
     },
     "execution_count": 2,
     "metadata": {},
     "output_type": "execute_result"
    }
   ],
   "source": [
    "# 讀取資料檔\n",
    "f_app_train = os.path.join(dir_data, 'application_train.csv')\n",
    "app_train = pd.read_csv(f_app_train)\n",
    "app_train.shape"
   ]
  },
  {
   "cell_type": "code",
<<<<<<< HEAD
   "execution_count": 3,
=======
   "execution_count": 4,
>>>>>>> ab7e9e6f95f5cadbd4c521ecb65e065459be2608
   "metadata": {},
   "outputs": [
    {
     "name": "stdout",
     "output_type": "stream",
     "text": [
      "(307511, 122)\n",
      "(307511, 122)\n"
     ]
    },
    {
     "data": {
      "text/html": [
       "<div>\n",
       "<style scoped>\n",
       "    .dataframe tbody tr th:only-of-type {\n",
       "        vertical-align: middle;\n",
       "    }\n",
       "\n",
       "    .dataframe tbody tr th {\n",
       "        vertical-align: top;\n",
       "    }\n",
       "\n",
       "    .dataframe thead th {\n",
       "        text-align: right;\n",
       "    }\n",
       "</style>\n",
       "<table border=\"1\" class=\"dataframe\">\n",
       "  <thead>\n",
       "    <tr style=\"text-align: right;\">\n",
       "      <th></th>\n",
       "      <th>SK_ID_CURR</th>\n",
       "      <th>TARGET</th>\n",
       "      <th>NAME_CONTRACT_TYPE</th>\n",
       "      <th>CODE_GENDER</th>\n",
       "      <th>FLAG_OWN_CAR</th>\n",
       "      <th>FLAG_OWN_REALTY</th>\n",
       "      <th>CNT_CHILDREN</th>\n",
       "      <th>AMT_INCOME_TOTAL</th>\n",
       "      <th>AMT_CREDIT</th>\n",
       "      <th>AMT_ANNUITY</th>\n",
       "      <th>...</th>\n",
       "      <th>FLAG_DOCUMENT_18</th>\n",
       "      <th>FLAG_DOCUMENT_19</th>\n",
       "      <th>FLAG_DOCUMENT_20</th>\n",
       "      <th>FLAG_DOCUMENT_21</th>\n",
       "      <th>AMT_REQ_CREDIT_BUREAU_HOUR</th>\n",
       "      <th>AMT_REQ_CREDIT_BUREAU_DAY</th>\n",
       "      <th>AMT_REQ_CREDIT_BUREAU_WEEK</th>\n",
       "      <th>AMT_REQ_CREDIT_BUREAU_MON</th>\n",
       "      <th>AMT_REQ_CREDIT_BUREAU_QRT</th>\n",
       "      <th>AMT_REQ_CREDIT_BUREAU_YEAR</th>\n",
       "    </tr>\n",
       "  </thead>\n",
       "  <tbody>\n",
       "    <tr>\n",
       "      <th>0</th>\n",
       "      <td>100002</td>\n",
       "      <td>1</td>\n",
       "      <td>0</td>\n",
       "      <td>M</td>\n",
       "      <td>0</td>\n",
       "      <td>1</td>\n",
       "      <td>0</td>\n",
       "      <td>202500.0</td>\n",
       "      <td>406597.5</td>\n",
       "      <td>24700.5</td>\n",
       "      <td>...</td>\n",
       "      <td>0</td>\n",
       "      <td>0</td>\n",
       "      <td>0</td>\n",
       "      <td>0</td>\n",
       "      <td>0.0</td>\n",
       "      <td>0.0</td>\n",
       "      <td>0.0</td>\n",
       "      <td>0.0</td>\n",
       "      <td>0.0</td>\n",
       "      <td>1.0</td>\n",
       "    </tr>\n",
       "    <tr>\n",
       "      <th>1</th>\n",
       "      <td>100003</td>\n",
       "      <td>0</td>\n",
       "      <td>0</td>\n",
       "      <td>F</td>\n",
       "      <td>0</td>\n",
       "      <td>0</td>\n",
       "      <td>0</td>\n",
       "      <td>270000.0</td>\n",
       "      <td>1293502.5</td>\n",
       "      <td>35698.5</td>\n",
       "      <td>...</td>\n",
       "      <td>0</td>\n",
       "      <td>0</td>\n",
       "      <td>0</td>\n",
       "      <td>0</td>\n",
       "      <td>0.0</td>\n",
       "      <td>0.0</td>\n",
       "      <td>0.0</td>\n",
       "      <td>0.0</td>\n",
       "      <td>0.0</td>\n",
       "      <td>0.0</td>\n",
       "    </tr>\n",
       "    <tr>\n",
       "      <th>2</th>\n",
       "      <td>100004</td>\n",
       "      <td>0</td>\n",
       "      <td>1</td>\n",
       "      <td>M</td>\n",
       "      <td>1</td>\n",
       "      <td>1</td>\n",
       "      <td>0</td>\n",
       "      <td>67500.0</td>\n",
       "      <td>135000.0</td>\n",
       "      <td>6750.0</td>\n",
       "      <td>...</td>\n",
       "      <td>0</td>\n",
       "      <td>0</td>\n",
       "      <td>0</td>\n",
       "      <td>0</td>\n",
       "      <td>0.0</td>\n",
       "      <td>0.0</td>\n",
       "      <td>0.0</td>\n",
       "      <td>0.0</td>\n",
       "      <td>0.0</td>\n",
       "      <td>0.0</td>\n",
       "    </tr>\n",
       "    <tr>\n",
       "      <th>3</th>\n",
       "      <td>100006</td>\n",
       "      <td>0</td>\n",
       "      <td>0</td>\n",
       "      <td>F</td>\n",
       "      <td>0</td>\n",
       "      <td>1</td>\n",
       "      <td>0</td>\n",
       "      <td>135000.0</td>\n",
       "      <td>312682.5</td>\n",
       "      <td>29686.5</td>\n",
       "      <td>...</td>\n",
       "      <td>0</td>\n",
       "      <td>0</td>\n",
       "      <td>0</td>\n",
       "      <td>0</td>\n",
       "      <td>NaN</td>\n",
       "      <td>NaN</td>\n",
       "      <td>NaN</td>\n",
       "      <td>NaN</td>\n",
       "      <td>NaN</td>\n",
       "      <td>NaN</td>\n",
       "    </tr>\n",
       "    <tr>\n",
       "      <th>4</th>\n",
       "      <td>100007</td>\n",
       "      <td>0</td>\n",
       "      <td>0</td>\n",
       "      <td>M</td>\n",
       "      <td>0</td>\n",
       "      <td>1</td>\n",
       "      <td>0</td>\n",
       "      <td>121500.0</td>\n",
       "      <td>513000.0</td>\n",
       "      <td>21865.5</td>\n",
       "      <td>...</td>\n",
       "      <td>0</td>\n",
       "      <td>0</td>\n",
       "      <td>0</td>\n",
       "      <td>0</td>\n",
       "      <td>0.0</td>\n",
       "      <td>0.0</td>\n",
       "      <td>0.0</td>\n",
       "      <td>0.0</td>\n",
       "      <td>0.0</td>\n",
       "      <td>0.0</td>\n",
       "    </tr>\n",
       "  </tbody>\n",
       "</table>\n",
       "<p>5 rows × 122 columns</p>\n",
       "</div>"
      ],
      "text/plain": [
       "   SK_ID_CURR  TARGET  NAME_CONTRACT_TYPE CODE_GENDER  FLAG_OWN_CAR  \\\n",
       "0      100002       1                   0           M             0   \n",
       "1      100003       0                   0           F             0   \n",
       "2      100004       0                   1           M             1   \n",
       "3      100006       0                   0           F             0   \n",
       "4      100007       0                   0           M             0   \n",
       "\n",
       "   FLAG_OWN_REALTY  CNT_CHILDREN  AMT_INCOME_TOTAL  AMT_CREDIT  AMT_ANNUITY  \\\n",
       "0                1             0          202500.0    406597.5      24700.5   \n",
       "1                0             0          270000.0   1293502.5      35698.5   \n",
       "2                1             0           67500.0    135000.0       6750.0   \n",
       "3                1             0          135000.0    312682.5      29686.5   \n",
       "4                1             0          121500.0    513000.0      21865.5   \n",
       "\n",
<<<<<<< HEAD
       "   ...  FLAG_DOCUMENT_18 FLAG_DOCUMENT_19 FLAG_DOCUMENT_20 FLAG_DOCUMENT_21  \\\n",
       "0  ...                 0                0                0                0   \n",
       "1  ...                 0                0                0                0   \n",
       "2  ...                 0                0                0                0   \n",
       "3  ...                 0                0                0                0   \n",
       "4  ...                 0                0                0                0   \n",
       "\n",
       "  AMT_REQ_CREDIT_BUREAU_HOUR AMT_REQ_CREDIT_BUREAU_DAY  \\\n",
       "0                        0.0                       0.0   \n",
       "1                        0.0                       0.0   \n",
       "2                        0.0                       0.0   \n",
       "3                        NaN                       NaN   \n",
       "4                        0.0                       0.0   \n",
       "\n",
       "   AMT_REQ_CREDIT_BUREAU_WEEK  AMT_REQ_CREDIT_BUREAU_MON  \\\n",
       "0                         0.0                        0.0   \n",
       "1                         0.0                        0.0   \n",
       "2                         0.0                        0.0   \n",
       "3                         NaN                        NaN   \n",
       "4                         0.0                        0.0   \n",
       "\n",
       "   AMT_REQ_CREDIT_BUREAU_QRT  AMT_REQ_CREDIT_BUREAU_YEAR  \n",
       "0                        0.0                         1.0  \n",
       "1                        0.0                         0.0  \n",
       "2                        0.0                         0.0  \n",
       "3                        NaN                         NaN  \n",
       "4                        0.0                         0.0  \n",
=======
       "              ...              FLAG_DOCUMENT_18 FLAG_DOCUMENT_19  \\\n",
       "0             ...                             0                0   \n",
       "1             ...                             0                0   \n",
       "2             ...                             0                0   \n",
       "3             ...                             0                0   \n",
       "4             ...                             0                0   \n",
       "\n",
       "  FLAG_DOCUMENT_20 FLAG_DOCUMENT_21 AMT_REQ_CREDIT_BUREAU_HOUR  \\\n",
       "0                0                0                        0.0   \n",
       "1                0                0                        0.0   \n",
       "2                0                0                        0.0   \n",
       "3                0                0                        NaN   \n",
       "4                0                0                        0.0   \n",
       "\n",
       "  AMT_REQ_CREDIT_BUREAU_DAY  AMT_REQ_CREDIT_BUREAU_WEEK  \\\n",
       "0                       0.0                         0.0   \n",
       "1                       0.0                         0.0   \n",
       "2                       0.0                         0.0   \n",
       "3                       NaN                         NaN   \n",
       "4                       0.0                         0.0   \n",
       "\n",
       "   AMT_REQ_CREDIT_BUREAU_MON  AMT_REQ_CREDIT_BUREAU_QRT  \\\n",
       "0                        0.0                        0.0   \n",
       "1                        0.0                        0.0   \n",
       "2                        0.0                        0.0   \n",
       "3                        NaN                        NaN   \n",
       "4                        0.0                        0.0   \n",
       "\n",
       "   AMT_REQ_CREDIT_BUREAU_YEAR  \n",
       "0                         1.0  \n",
       "1                         0.0  \n",
       "2                         0.0  \n",
       "3                         NaN  \n",
       "4                         0.0  \n",
>>>>>>> ab7e9e6f95f5cadbd4c521ecb65e065459be2608
       "\n",
       "[5 rows x 122 columns]"
      ]
     },
<<<<<<< HEAD
     "execution_count": 3,
=======
     "execution_count": 4,
>>>>>>> ab7e9e6f95f5cadbd4c521ecb65e065459be2608
     "metadata": {},
     "output_type": "execute_result"
    }
   ],
   "source": [
    "# 將只有兩種值的類別型欄位, 做 Label Encoder, 計算相關係數時讓這些欄位可以被包含在內\n",
    "from sklearn.preprocessing import LabelEncoder\n",
    "le = LabelEncoder()\n",
    "\n",
    "# Label encoding : 把每個類別用某個整數代替，不會增加新欄位\n",
    "# One hot encoding : 為每個類別新增一個欄位，用 0/1 表示是否(會增加新欄位)\n",
    "\n",
    "print(app_train.shape)\n",
    "\n",
    "# 檢查每一個 column\n",
    "for col in app_train:\n",
    "    if app_train[col].dtype == 'object':\n",
    "        # 如果只有兩種值的類別型欄位\n",
    "        if len(list(app_train[col].unique())) <= 2:\n",
    "            # 就做 Label Encoder, 以加入相關係數檢查\n",
    "            app_train[col] = le.fit_transform(app_train[col]) \n",
    "            \n",
    "print(app_train.shape)\n",
    "app_train.head()"
   ]
  },
  {
   "cell_type": "code",
<<<<<<< HEAD
   "execution_count": 4,
   "metadata": {},
   "outputs": [
    {
     "data": {
      "text/plain": [
       "0         False\n",
       "1         False\n",
       "2         False\n",
       "3         False\n",
       "4         False\n",
       "          ...  \n",
       "307506    False\n",
       "307507     True\n",
       "307508    False\n",
       "307509    False\n",
       "307510    False\n",
       "Name: DAYS_EMPLOYED, Length: 307511, dtype: bool"
      ]
     },
     "execution_count": 4,
     "metadata": {},
     "output_type": "execute_result"
    }
   ],
   "source": [
    "app_train[\"DAYS_EMPLOYED\"] == 365243"
   ]
  },
  {
   "cell_type": "code",
=======
>>>>>>> ab7e9e6f95f5cadbd4c521ecb65e065459be2608
   "execution_count": 5,
   "metadata": {},
   "outputs": [],
   "source": [
    "# 受雇日數為異常值的資料, 另外設一個欄位記錄, 並將異常的日數轉成空值 (np.nan)\n",
    "# 把異常值存到app_train['DAYS_EMPLOYED_ANOM']\n",
    "\n",
    "app_train['DAYS_EMPLOYED_ANOM'] = app_train[\"DAYS_EMPLOYED\"] == 365243\n",
    "app_train['DAYS_EMPLOYED'].replace({365243: np.nan}, inplace = True)\n",
    "\n",
    "# 出生日數 (DAYS_BIRTH) 取絕對值 \n",
    "app_train['DAYS_BIRTH'] = abs(app_train['DAYS_BIRTH'])"
   ]
  },
  {
   "cell_type": "markdown",
   "metadata": {},
   "source": [
    "### 相關係數\n",
    "一樣，pandas 很貼心地讓我們可以非常容易計算相關係數"
   ]
  },
  {
   "cell_type": "code",
   "execution_count": 7,
   "metadata": {
    "scrolled": true
   },
   "outputs": [
    {
     "data": {
      "text/plain": [
<<<<<<< HEAD
       "SK_ID_CURR                   -0.002108\n",
       "TARGET                        1.000000\n",
       "NAME_CONTRACT_TYPE           -0.030896\n",
       "FLAG_OWN_CAR                 -0.021851\n",
       "FLAG_OWN_REALTY              -0.006148\n",
       "                                ...   \n",
       "AMT_REQ_CREDIT_BUREAU_WEEK    0.000788\n",
       "AMT_REQ_CREDIT_BUREAU_MON    -0.012462\n",
       "AMT_REQ_CREDIT_BUREAU_QRT    -0.002022\n",
       "AMT_REQ_CREDIT_BUREAU_YEAR    0.019930\n",
       "DAYS_EMPLOYED_ANOM           -0.045987\n",
=======
       "SK_ID_CURR                    -0.002108\n",
       "TARGET                         1.000000\n",
       "NAME_CONTRACT_TYPE            -0.030896\n",
       "FLAG_OWN_CAR                  -0.021851\n",
       "FLAG_OWN_REALTY               -0.006148\n",
       "CNT_CHILDREN                   0.019187\n",
       "AMT_INCOME_TOTAL              -0.003982\n",
       "AMT_CREDIT                    -0.030369\n",
       "AMT_ANNUITY                   -0.012817\n",
       "AMT_GOODS_PRICE               -0.039645\n",
       "REGION_POPULATION_RELATIVE    -0.037227\n",
       "DAYS_BIRTH                    -0.078239\n",
       "DAYS_EMPLOYED                  0.074958\n",
       "DAYS_REGISTRATION              0.041975\n",
       "DAYS_ID_PUBLISH                0.051457\n",
       "OWN_CAR_AGE                    0.037612\n",
       "FLAG_MOBIL                     0.000534\n",
       "FLAG_EMP_PHONE                 0.045982\n",
       "FLAG_WORK_PHONE                0.028524\n",
       "FLAG_CONT_MOBILE               0.000370\n",
       "FLAG_PHONE                    -0.023806\n",
       "FLAG_EMAIL                    -0.001758\n",
       "CNT_FAM_MEMBERS                0.009308\n",
       "REGION_RATING_CLIENT           0.058899\n",
       "REGION_RATING_CLIENT_W_CITY    0.060893\n",
       "HOUR_APPR_PROCESS_START       -0.024166\n",
       "REG_REGION_NOT_LIVE_REGION     0.005576\n",
       "REG_REGION_NOT_WORK_REGION     0.006942\n",
       "LIVE_REGION_NOT_WORK_REGION    0.002819\n",
       "REG_CITY_NOT_LIVE_CITY         0.044395\n",
       "                                 ...   \n",
       "OBS_60_CNT_SOCIAL_CIRCLE       0.009022\n",
       "DEF_60_CNT_SOCIAL_CIRCLE       0.031276\n",
       "DAYS_LAST_PHONE_CHANGE         0.055218\n",
       "FLAG_DOCUMENT_2                0.005417\n",
       "FLAG_DOCUMENT_3                0.044346\n",
       "FLAG_DOCUMENT_4               -0.002672\n",
       "FLAG_DOCUMENT_5               -0.000316\n",
       "FLAG_DOCUMENT_6               -0.028602\n",
       "FLAG_DOCUMENT_7               -0.001520\n",
       "FLAG_DOCUMENT_8               -0.008040\n",
       "FLAG_DOCUMENT_9               -0.004352\n",
       "FLAG_DOCUMENT_10              -0.001414\n",
       "FLAG_DOCUMENT_11              -0.004229\n",
       "FLAG_DOCUMENT_12              -0.000756\n",
       "FLAG_DOCUMENT_13              -0.011583\n",
       "FLAG_DOCUMENT_14              -0.009464\n",
       "FLAG_DOCUMENT_15              -0.006536\n",
       "FLAG_DOCUMENT_16              -0.011615\n",
       "FLAG_DOCUMENT_17              -0.003378\n",
       "FLAG_DOCUMENT_18              -0.007952\n",
       "FLAG_DOCUMENT_19              -0.001358\n",
       "FLAG_DOCUMENT_20               0.000215\n",
       "FLAG_DOCUMENT_21               0.003709\n",
       "AMT_REQ_CREDIT_BUREAU_HOUR     0.000930\n",
       "AMT_REQ_CREDIT_BUREAU_DAY      0.002704\n",
       "AMT_REQ_CREDIT_BUREAU_WEEK     0.000788\n",
       "AMT_REQ_CREDIT_BUREAU_MON     -0.012462\n",
       "AMT_REQ_CREDIT_BUREAU_QRT     -0.002022\n",
       "AMT_REQ_CREDIT_BUREAU_YEAR     0.019930\n",
       "DAYS_EMPLOYED_ANOM            -0.045987\n",
>>>>>>> ab7e9e6f95f5cadbd4c521ecb65e065459be2608
       "Name: TARGET, Length: 110, dtype: float64"
      ]
     },
     "execution_count": 7,
     "metadata": {},
     "output_type": "execute_result"
    }
   ],
   "source": [
    "# 觀察相關係數\n",
    "# 計算每個欄位與TARGET的相關係數\n",
    "corr = app_train.corr()['TARGET']\n",
    "corr"
   ]
  },
  {
   "cell_type": "markdown",
   "metadata": {},
   "source": [
    "## 練習時間\n",
    "列出目標 (TARGET) 與所有欄位之間相關係數，數值最大以及最小各 15 個\n",
    "\n",
    "通過相關係數的結果觀察有興趣的欄位與 TARGET 或其他欄位的相關係數，並嘗試找出有趣的訊息\n",
    "- 最好的方式當然是畫圖，舉例來說，我們知道  EXT_SOURCE_3 這個欄位和 TARGET 之間的相關係數是 -0.178919 (在已經這個資料集已經是最負的了！)，那我們可以 EXT_SOURCE_3  為 x 軸， TARGET 為 y 軸，把資料給畫出來"
   ]
  },
  {
   "cell_type": "code",
<<<<<<< HEAD
   "execution_count": 8,
=======
   "execution_count": 39,
>>>>>>> ab7e9e6f95f5cadbd4c521ecb65e065459be2608
   "metadata": {
    "scrolled": true
   },
   "outputs": [
    {
     "name": "stdout",
     "output_type": "stream",
     "text": [
      "DEF_60_CNT_SOCIAL_CIRCLE       0.031276\n",
      "DEF_30_CNT_SOCIAL_CIRCLE       0.032248\n",
      "LIVE_CITY_NOT_WORK_CITY        0.032518\n",
      "OWN_CAR_AGE                    0.037612\n",
      "DAYS_REGISTRATION              0.041975\n",
      "FLAG_DOCUMENT_3                0.044346\n",
      "REG_CITY_NOT_LIVE_CITY         0.044395\n",
      "FLAG_EMP_PHONE                 0.045982\n",
      "REG_CITY_NOT_WORK_CITY         0.050994\n",
      "DAYS_ID_PUBLISH                0.051457\n",
      "DAYS_LAST_PHONE_CHANGE         0.055218\n",
      "REGION_RATING_CLIENT           0.058899\n",
      "REGION_RATING_CLIENT_W_CITY    0.060893\n",
      "DAYS_EMPLOYED                  0.074958\n",
      "TARGET                         1.000000\n",
      "Name: TARGET, dtype: float64\n",
      "------------------------------------------------------\n",
      "EXT_SOURCE_3                 -0.178919\n",
      "EXT_SOURCE_2                 -0.160472\n",
      "EXT_SOURCE_1                 -0.155317\n",
      "DAYS_BIRTH                   -0.078239\n",
      "DAYS_EMPLOYED_ANOM           -0.045987\n",
      "FLOORSMAX_AVG                -0.044003\n",
      "FLOORSMAX_MEDI               -0.043768\n",
      "FLOORSMAX_MODE               -0.043226\n",
      "AMT_GOODS_PRICE              -0.039645\n",
      "REGION_POPULATION_RELATIVE   -0.037227\n",
      "ELEVATORS_AVG                -0.034199\n",
      "ELEVATORS_MEDI               -0.033863\n",
      "FLOORSMIN_AVG                -0.033614\n",
      "FLOORSMIN_MEDI               -0.033394\n",
      "LIVINGAREA_AVG               -0.032997\n",
      "Name: TARGET, dtype: float64\n"
     ]
    }
   ],
   "source": [
    "corr_s = corr.sort_values()\n",
    "max15 = corr_s.tail(15)\n",
    "min15 = corr_s.head(15)\n",
    "print(max15)\n",
    "print(\"------------------------------------------------------\")\n",
    "print(min15)"
   ]
  },
  {
   "cell_type": "code",
<<<<<<< HEAD
   "execution_count": 9,
=======
   "execution_count": 51,
>>>>>>> ab7e9e6f95f5cadbd4c521ecb65e065459be2608
   "metadata": {},
   "outputs": [
    {
     "name": "stdout",
     "output_type": "stream",
     "text": [
      "307511\n",
      "307511\n"
     ]
    },
    {
     "data": {
<<<<<<< HEAD
      "image/png": "iVBORw0KGgoAAAANSUhEUgAAAYIAAAEHCAYAAACjh0HiAAAABHNCSVQICAgIfAhkiAAAAAlwSFlzAAALEgAACxIB0t1+/AAAADh0RVh0U29mdHdhcmUAbWF0cGxvdGxpYiB2ZXJzaW9uMy4yLjIsIGh0dHA6Ly9tYXRwbG90bGliLm9yZy+WH4yJAAAU6klEQVR4nO3dfZBldX3n8feHGScLgRWERgkDDiRoRCIWNA/rrkZDufKwVawbqkTcsGFjWFYmlWxqE8gmazTuJhjRdVnRKYpikVR20TWUEuUhW2spScEIPVmeRgTbkYeWMQxIkahZxpn57h/3Dt7puX3pnulzm+nf+1XVNfec36/P+favevpzz8P9nVQVkqR27bfUBUiSlpZBIEmNMwgkqXEGgSQ1ziCQpMatXOoCFuqwww6rNWvWLHUZkrRP2bBhw9NVNTGsbZ8LgjVr1jA1NbXUZUjSPiXJY3O1eWpIkhpnEEhS4wwCSWqcQSBJjTMIJKlxnQVBkuuSPJXkwTnak+SqJNNJ7k9yUle1SJLm1uXto9cDnwBumKP9LOC4/tdpwKf6/3ZizeVfeuH1o1ecw4bHnuWmv57h1gc2870f/qir3UrSC/ZfuR/bq/jR9uJlK8L2HcX2/gTQb1z9cl5/5Mt56u+e57kfbuX5bTt41ylHc8FpRwOw4bFnWb/pGU4/9lBOfvUhi1pXZ0FQVXckWTOiy7nADdWbB3t9koOTHFFVmxe7lsEQ2Lm8auV+bN22Y7F3JUlz+vuBvzlbt+/6CIB7Z57j3pnndll338wDALz2VQfxnmvXs3XbDlat3I8/fe/pixoGS3mN4EjgiYHlmf663SS5OMlUkqktW7Ysys5/ZAhI2gfc+uBm1m96hq3bdrCjen+71m96ZlH3sZRBkCHrhj4lp6quqarJqpqcmBj6CekFe9lKr5NLeuk764QjOP3YQ1m1cj9WpPe36/RjD13UfSzlFBMzwFEDy6uBJ7vY0aNXnOM1AklLbm+uEfzpe0/v7BpBunxUZf8awRer6oQhbecAa4Gz6V0kvqqqTn2xbU5OTpZzDUnSwiTZUFWTw9o6OyJI8j+BtwKHJZkBfh94GUBVrQNuoRcC08APgYu6qkWSNLcu7xp694u0F3BpV/uXJM2PV0wlqXEGgSQ1ziCQpMYZBJLUOINAkhpnEEhS4wwCSWqcQSBJjTMIJKlxBoEkNc4gkKTGGQSS1DiDQJIaZxBIUuMMAklqnEEgSY0zCCSpcQaBJDXOIJCkxhkEktQ4g0CSGmcQSFLjDAJJapxBIEmNMwgkqXEGgSQ1ziCQpMYZBJLUOINAkhpnEEhS4wwCSWpcp0GQ5MwkDyeZTnL5kPaXJ/nzJPcl2Zjkoi7rkSTtrrMgSLICuBo4CzgeeHeS42d1uxT4elWdCLwV+GiSVV3VJEnaXZdHBKcC01W1qaq2AjcC587qU8BBSQIcCHwP2NZhTZKkWboMgiOBJwaWZ/rrBn0CeB3wJPAA8OtVtWP2hpJcnGQqydSWLVu6qleSmtRlEGTIupq1/A7gXuCngDcCn0jyD3f7pqprqmqyqiYnJiYWv1JJaliXQTADHDWwvJreO/9BFwE3Vc808G3gZzusSZI0S5dBcA9wXJJj+heAzwduntXnceAMgCSvBF4LbOqwJknSLCu72nBVbUuyFrgdWAFcV1Ubk1zSb18HfAi4PskD9E4lXVZVT3dVkyRpd50FAUBV3QLcMmvduoHXTwL/tMsaJEmj+cliSWqcQSBJjTMIJKlxBoEkNc4gkKTGGQSS1DiDQJIaZxBIUuMMAklqnEEgSY0zCCSpcQaBJDXOIJCkxhkEktQ4g0CSGmcQSFLjDAJJapxBIEmNMwgkqXEGgSQ1ziCQpMYZBJLUOINAkhpnEEhS4wwCSWqcQSBJjTMIJKlxBoEkNc4gkKTGGQSS1LhOgyDJmUkeTjKd5PI5+rw1yb1JNib5apf1SJJ2t7KrDSdZAVwNvB2YAe5JcnNVfX2gz8HAJ4Ezq+rxJId3VY8kabgujwhOBaaralNVbQVuBM6d1ecC4Kaqehygqp7qsB5J0hBdBsGRwBMDyzP9dYNeAxyS5CtJNiS5cNiGklycZCrJ1JYtWzoqV5LaNGcQJNnb00YZsq5mLa8ETgbOAd4B/Mckr9ntm6quqarJqpqcmJjYy7IkSYNGHRHcvZfbngGOGlheDTw5pM9tVfWDqnoauAM4cS/3K0lagFFBMOwd/ULcAxyX5Jgkq4DzgZtn9fkC8OYkK5McAJwGPLSX+5UkLcCo0z8TSX5zrsaq+tioDVfVtiRrgduBFcB1VbUxySX99nVV9VCS24D7gR3AtVX14IJ/CknSHhsVBCuAA9mLI4OqugW4Zda6dbOWPwJ8ZE/3IUnaO6OCYHNV/cHYKpEkLYkurxFIkvYBo4Lgj3a+SHLMYEOSf9FZRZKksRoVBINzA/3ZrLbf66AWSdISmO+podmniTxtJEnLxKggqDleD1uWJO2jRt01dGySm+m9+9/5mv7yMXN/myRpXzIqCAZnCr1yVtvsZUnSPmrOIKgqHxIjSQ0YNfvouUkuHVj+WpJN/a/zxlOeJKlroy4W/za7ThL3E8ApwFuBf9thTZKkMRp1jWBVVQ0+WOavquoZ4JkkP9lxXZKkMRl1RHDI4EJVrR1Y9OkwkrRMjAqCryX51dkrk/wb9v6hNZKkl4hRp4b+HfD5JBcAf91fdzK9awX/vOvCJEnjMer20aeANyX5BeD1/dVfqqovj6UySdJYvOgD6vt/+F/445/kYODSqvrPXRYmSRqPUZ8jOCrJNUm+mOS9SQ5I8lHgm8Dh4ytRktSlUUcENwBfpTcF9ZnAemAj8HNV9d0x1CZJGoNRQfCKqvpA//XtSf4GOKWqnu++LEnSuIy8RpDkEH787IHvAgfs/DBZVX2v49okSWMwKgheDmxg14fQ7LyNtIBjuypKkjQ+o24fXTPGOiRJS2TUJ4t3k+Snk/xukge7KkiSNF4vGgRJjkjyG0nupnfX0Erg3Z1XJkkai1GfI/jVJF+mdwvpYcB7gc1V9cGqemBcBUqSujXqYvHVwF3ABVU1BZDEh9ZL0jIzKghWA78IfCzJK4HPAi8bS1WSpLEZdY3gtqr6VFW9BTgDeA54KslDSf5wPOVJkro2Kghe+PxAVc1U1ZVVdTJwLuCniyVpmRh1amgiyW/O0fZ3XRQjSRq/UUcEK4ADgYOGfB04n40nOTPJw0mmk1w+ot8pSbYnOW/+pUuSFsOoI4LNVfUHe7rhJCvo3Xn0dmAGuCfJzVX19SH9Pgzcvqf7kiTtuXldI9hDpwLTVbWpqrYCN9K7vjDbr9Gb6vqpvdyfJGkPjAqCM/Zy20cCTwwsz/TXvSDJkcA7gXWjNpTk4iRTSaa2bNmyl2VJkgbNGQSLMM30sCOK2R9I+zhwWVVtH7WhqrqmqiaranJiYmIvy5IkDXrRZxbvhRngqIHl1cCTs/pMAjcmgd40Fmcn2VZVn++wLknSgC6D4B7guCTHAN8BzgcuGOxQVcfsfJ3keuCLhoAkjVdnQVBV25KspXc30ArguqramOSSfvvI6wKSpPHo8oiAqroFuGXWuqEBUFW/3GUtkqThFvRgGknS8mMQSFLjDAJJapxBIEmNMwgkqXEGgSQ1ziCQpMYZBJLUOINAkhpnEEhS4wwCSWqcQSBJjTMIJKlxBoEkNc4gkKTGGQSS1DiDQJIaZxBIUuMMAklqnEEgSY0zCCSpcQaBJDXOIJCkxhkEktQ4g0CSGmcQSFLjDAJJapxBIEmNMwgkqXEGgSQ1rtMgSHJmkoeTTCe5fEj7e5Lc3/+6M8mJXdYjSdpdZ0GQZAVwNXAWcDzw7iTHz+r2beDnq+oNwIeAa7qqR5I0XJdHBKcC01W1qaq2AjcC5w52qKo7q+rZ/uJ6YHWH9UiShugyCI4EnhhYnumvm8uvALcOa0hycZKpJFNbtmxZxBIlSV0GQYasq6Edk7fRC4LLhrVX1TVVNVlVkxMTE4tYoiRpZYfbngGOGlheDTw5u1OSNwDXAmdV1TMd1iNJGqLLI4J7gOOSHJNkFXA+cPNghyRHAzcBv1RVj3RYiyRpDp0dEVTVtiRrgduBFcB1VbUxySX99nXA+4FDgU8mAdhWVZNd1SRJ2l2qhp62f8manJysqamppS5DkvYpSTbM9UbbTxZLUuMMAklqnEEgSY0zCCSpcQaBJDXOIJCkxhkEktQ4g0CSGmcQSFLjDAJJapxBIEmNMwgkqXEGgSQ1ziCQpMYZBJLUOINAkhpnEEhS4wwCSWqcQSBJjTMIJKlxBoEkNc4gkKTGGQSS1DiDQJIaZxBIUuMMAklqnEEgSY0zCCSpcQaBJDXOIJCkxhkEktS4ToMgyZlJHk4yneTyIe1JclW//f4kJ3VZjyRpdyu72nCSFcDVwNuBGeCeJDdX1dcHup0FHNf/Og34VP/fRbfm8i+98PrRK84B4IpbHuKzG57g+/9vG1u3Vxe7laS9cuqaQzjp6EPYuPlvOeuEI7jgtKMXfR+dBQFwKjBdVZsAktwInAsMBsG5wA1VVcD6JAcnOaKqNi9mIYMhsHP5krccy7o7Ni3mbiRp0d396LPc/eizAPzlN58GWPQw6PLU0JHAEwPLM/11C+1DkouTTCWZ2rJly6IUd9vG7y7KdiRpnG59cFHfJwPdBkGGrJt9/mU+faiqa6pqsqomJyYmFqW4M1//qkXZjiSN01knHLHo2+zy1NAMcNTA8mrgyT3os9ceveKcodcIAK8RSHpJG8c1gvROzy++JCuBR4AzgO8A9wAXVNXGgT7nAGuBs+ldJL6qqk4dtd3JycmamprqpGZJWq6SbKiqyWFtnR0RVNW2JGuB24EVwHVVtTHJJf32dcAt9EJgGvghcFFX9UiShuvy1BBVdQu9P/aD69YNvC7g0i5rkCSN5ieLJalxBoEkNc4gkKTGGQSS1LjObh/tSpItwGN7+O2HAU8vYjn7OsdjV47HrhyPXe3r4/Hqqhr6idx9Lgj2RpKpue6jbZHjsSvHY1eOx66W83h4akiSGmcQSFLjWguCa5a6gJcYx2NXjseuHI9dLdvxaOoagSRpd60dEUiSZjEIJKlxyzIIkpyZ5OEk00kuH9KeJFf12+9PctJS1Dku8xiP9/TH4f4kdyY5cSnqHJcXG4+Bfqck2Z7kvHHWN27zGY8kb01yb5KNSb467hrHaR7/X16e5M+T3Ncfj31/1uSqWlZf9Ka8/hZwLLAKuA84flafs4Fb6T0h7XTga0td9xKPx5uAQ/qvz2p9PAb6fZne7LnnLXXdS/z7cTC9Z40f3V8+fKnrXuLx+A/Ah/uvJ4DvAauWuva9+VqORwSnAtNVtamqtgI3AufO6nMucEP1rAcOTrL4z397aXjR8aiqO6vq2f7ienpPiluu5vP7AfBrwJ8BT42zuCUwn/G4ALipqh4HqKrlPCbzGY8CDkoS4EB6QbBtvGUuruUYBEcCTwwsz/TXLbTPcrHQn/VX6B0tLVcvOh5JjgTeCaxj+ZvP78drgEOSfCXJhiQXjq268ZvPeHwCeB29x+o+APx6Ve0YT3nd6PTBNEskQ9bNvkd2Pn2Wi3n/rEneRi8I/kmnFS2t+YzHx4HLqmp7703fsjaf8VgJnEzvsbP7A3clWV9Vj3Rd3BKYz3i8A7gX+AXgp4H/neQvq+pvuy6uK8sxCGaAowaWV9NL7oX2WS7m9bMmeQNwLXBWVT0zptqWwnzGYxK4sR8ChwFnJ9lWVZ8fT4ljNd//L09X1Q+AHyS5AziR3jPJl5v5jMdFwBXVu0gwneTbwM8Cd4+nxMW3HE8N3QMcl+SYJKuA84GbZ/W5Gbiwf/fQ6cBzVbV53IWOyYuOR5KjgZuAX1qm7/IGveh4VNUxVbWmqtYAnwPet0xDAOb3/+ULwJuTrExyAHAa8NCY6xyX+YzH4/SOjkjySuC1wKaxVrnIlt0RQVVtS7IWuJ3eHQDXVdXGJJf029fRuxPkbGAa+CG9hF+W5jke7wcOBT7Zfxe8rZbpLIvzHI9mzGc8quqhJLcB9wM7gGur6sGlq7o78/z9+BBwfZIH6J1Kuqyq9uXpqZ1iQpJatxxPDUmSFsAgkKTGGQSS1DiDQJIaZxBIUuMMAklqnEGgfVJ/euh7B74uT7KiPxfOWwb6/UWSdw30+26S7wwsr5pj+7/bn2L4/n6/0/rrVyX5eJJvJflmki8kWd1vW5PkwVnb+UCSf99/fX2Sb/e3d1+SMwb6nZrkjv70x99Icm2SA5L8cpIts37W4+eo+dX9n3/ndNGX7P1IqwXL7gNlasbfV9UbZ69M8j7g2vSeMXEeUFX1GeAz/fYPAN+vqivn2nCSfwT8M+Ckqno+yWH0piQG+EPgIOA1/bmILgJu2hkU8/BbVfW5/rxO19D7FOsrgf8FnF9Vd/VntfzF/n4APlNVa+ex7c3Am/o1Hwg8mOTmqlqu06dokRgEWlaq6mtJ7gQ+QG/65LfvwWaOoDe3zvP9bT4N0J9e4SLgmKra3m/770n+Nb0JyL61gH3cxY9ntbwU+HRV3dXfZtGb2oKFTHrXnzZ5p5/AI37Nk78o2lftP+t0ybsG2n4H+A3gf1TV9B5s+y+Ao5I8kuSTSX6+v/5ngMeHzDI5Bbx+gfs4E9g5f9EJwIYRfd8162fdf66OSY5Kcj+9qZQ/7NGA5sMjAu2rhp4a6nsL8By9P7ALVlXfT3Iy8GbgbcBn0ntk4f9l+BTe6a+fa76WwfUfSfLHwOH0no43H/M9NURVPQG8IclPAZ9P8rmq+pt57keN8ohAy0qSnwT+mN6pmokkZ+/Jdqpqe1V9pap+H1hL75z9NPDqJAfN6n4SvUc5PgMcMqvtFcDghGS/Re/I4veAT/fXbaQ33/+i6R8JbKQXZtJIBoGWm/cDn62qbwDvA/5Lkn+wkA0keW2S4wZWvRF4rD8f/6eBjyVZ0e97IXAA8OWq+j6weefdQEleQe8U0F8Nbr//NKv/CuyX5B30nnj1rwYvOCf5l0letcC6V+88bZTkEOAfAw8vZBtqk6eGtK/aP8m9A8u3ATfQe8TkiQBVdW+S24HLgA8uYNsHAv8tycH0nkU7DVzcb/sd4ErgkSQ7gG8A76wfT+N7IXB1ko/2lz9YVbtdRK6qSvKfgN+uqjOSnA9cmeRwelM930HvGRHQu0Yw+NS491XVnUPqfh3w0SRF73TVlVX1wAJ+bjXKaaglqXGeGpKkxnlqSM1Kcijwf4Y0nfFSfm5zkp8D/mTW6uerar4fapN24akhSWqcp4YkqXEGgSQ1ziCQpMYZBJLUuP8PMK9AVXEf7uYAAAAASUVORK5CYII=\n",
=======
      "image/png": "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\n",
>>>>>>> ab7e9e6f95f5cadbd4c521ecb65e065459be2608
      "text/plain": [
       "<Figure size 432x288 with 1 Axes>"
      ]
     },
     "metadata": {
      "needs_background": "light"
     },
     "output_type": "display_data"
    },
    {
     "data": {
<<<<<<< HEAD
      "image/png": "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\n",
=======
      "image/png": "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\n",
>>>>>>> ab7e9e6f95f5cadbd4c521ecb65e065459be2608
      "text/plain": [
       "<Figure size 432x288 with 1 Axes>"
      ]
     },
     "metadata": {
      "needs_background": "light"
     },
     "output_type": "display_data"
    }
   ],
   "source": [
    "# 確認 'EXT_SOURCE_3' 與 'TARGET' 數量一樣\n",
    "print(len(~app_train['EXT_SOURCE_3'].isnull()))\n",
    "print(len(~app_train['TARGET'].isnull()))\n",
    "\n",
    "#散佈圖\n",
    "# '.' -> 散佈圖\n",
    "plt.plot(app_train['EXT_SOURCE_3'], app_train['TARGET'], '.')\n",
    "plt.xlabel('EXT_SOURCE_3')\n",
    "plt.ylabel('TARGET')\n",
    "plt.show()\n",
    "\n",
    "#盒狀圖\n",
    "app_train.boxplot(column = 'EXT_SOURCE_3', by = 'TARGET')\n",
    "plt.suptitle('')\n",
    "plt.xlabel('TARGET')\n",
    "plt.ylabel('EXT_SOURCE_3')\n",
    "plt.show()"
   ]
  }
 ],
 "metadata": {
  "kernelspec": {
   "display_name": "Python 3",
   "language": "python",
   "name": "python3"
  },
  "language_info": {
   "codemirror_mode": {
    "name": "ipython",
    "version": 3
   },
   "file_extension": ".py",
   "mimetype": "text/x-python",
   "name": "python",
   "nbconvert_exporter": "python",
   "pygments_lexer": "ipython3",
<<<<<<< HEAD
   "version": "3.8.3"
=======
   "version": "3.7.1"
>>>>>>> ab7e9e6f95f5cadbd4c521ecb65e065459be2608
  }
 },
 "nbformat": 4,
 "nbformat_minor": 2
}
