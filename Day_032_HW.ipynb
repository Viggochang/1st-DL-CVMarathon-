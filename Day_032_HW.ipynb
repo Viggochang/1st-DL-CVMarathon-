{
 "cells": [
  {
   "cell_type": "markdown",
   "metadata": {
    "collapsed": true
   },
   "source": [
    "# 作業 : (Kaggle)鐵達尼生存預測"
   ]
  },
  {
   "cell_type": "markdown",
   "metadata": {},
   "source": [
    "# [作業目標]\n",
    "- 試著模仿範例寫法, 在鐵達尼生存預測中, 使用葉編碼並觀察預測效果"
   ]
  },
  {
   "cell_type": "markdown",
   "metadata": {},
   "source": [
    "# [作業重點]\n",
    "- 仿造範例, 完成葉編碼的寫作 : 使用隨機森林 (In[3], Out[3], In[4], Out[4])\n",
    "- 仿造範例, 觀察葉編碼搭配邏輯斯迴歸後的效果 (In[5], Out[5], In[6], Out[6]) "
   ]
  },
  {
   "cell_type": "code",
<<<<<<< HEAD
   "execution_count": 2,
=======
   "execution_count": 1,
>>>>>>> ab7e9e6f95f5cadbd4c521ecb65e065459be2608
   "metadata": {},
   "outputs": [
    {
     "data": {
      "text/html": [
       "<div>\n",
       "<style scoped>\n",
       "    .dataframe tbody tr th:only-of-type {\n",
       "        vertical-align: middle;\n",
       "    }\n",
       "\n",
       "    .dataframe tbody tr th {\n",
       "        vertical-align: top;\n",
       "    }\n",
       "\n",
       "    .dataframe thead th {\n",
       "        text-align: right;\n",
       "    }\n",
       "</style>\n",
       "<table border=\"1\" class=\"dataframe\">\n",
       "  <thead>\n",
       "    <tr style=\"text-align: right;\">\n",
       "      <th></th>\n",
       "      <th>Pclass</th>\n",
       "      <th>Name</th>\n",
       "      <th>Sex</th>\n",
       "      <th>Age</th>\n",
       "      <th>SibSp</th>\n",
       "      <th>Parch</th>\n",
       "      <th>Ticket</th>\n",
       "      <th>Fare</th>\n",
       "      <th>Cabin</th>\n",
       "      <th>Embarked</th>\n",
       "    </tr>\n",
       "  </thead>\n",
       "  <tbody>\n",
       "    <tr>\n",
       "      <th>0</th>\n",
       "      <td>3</td>\n",
       "      <td>Braund, Mr. Owen Harris</td>\n",
       "      <td>male</td>\n",
       "      <td>22.0</td>\n",
       "      <td>1</td>\n",
       "      <td>0</td>\n",
       "      <td>A/5 21171</td>\n",
       "      <td>7.2500</td>\n",
       "      <td>NaN</td>\n",
       "      <td>S</td>\n",
       "    </tr>\n",
       "    <tr>\n",
       "      <th>1</th>\n",
       "      <td>1</td>\n",
       "      <td>Cumings, Mrs. John Bradley (Florence Briggs Th...</td>\n",
       "      <td>female</td>\n",
       "      <td>38.0</td>\n",
       "      <td>1</td>\n",
       "      <td>0</td>\n",
       "      <td>PC 17599</td>\n",
       "      <td>71.2833</td>\n",
       "      <td>C85</td>\n",
       "      <td>C</td>\n",
       "    </tr>\n",
       "    <tr>\n",
       "      <th>2</th>\n",
       "      <td>3</td>\n",
       "      <td>Heikkinen, Miss. Laina</td>\n",
       "      <td>female</td>\n",
       "      <td>26.0</td>\n",
       "      <td>0</td>\n",
       "      <td>0</td>\n",
       "      <td>STON/O2. 3101282</td>\n",
       "      <td>7.9250</td>\n",
       "      <td>NaN</td>\n",
       "      <td>S</td>\n",
       "    </tr>\n",
       "    <tr>\n",
       "      <th>3</th>\n",
       "      <td>1</td>\n",
       "      <td>Futrelle, Mrs. Jacques Heath (Lily May Peel)</td>\n",
       "      <td>female</td>\n",
       "      <td>35.0</td>\n",
       "      <td>1</td>\n",
       "      <td>0</td>\n",
       "      <td>113803</td>\n",
       "      <td>53.1000</td>\n",
       "      <td>C123</td>\n",
       "      <td>S</td>\n",
       "    </tr>\n",
       "    <tr>\n",
       "      <th>4</th>\n",
       "      <td>3</td>\n",
       "      <td>Allen, Mr. William Henry</td>\n",
       "      <td>male</td>\n",
       "      <td>35.0</td>\n",
       "      <td>0</td>\n",
       "      <td>0</td>\n",
       "      <td>373450</td>\n",
       "      <td>8.0500</td>\n",
       "      <td>NaN</td>\n",
       "      <td>S</td>\n",
       "    </tr>\n",
       "  </tbody>\n",
       "</table>\n",
       "</div>"
      ],
      "text/plain": [
       "   Pclass                                               Name     Sex   Age  \\\n",
       "0       3                            Braund, Mr. Owen Harris    male  22.0   \n",
       "1       1  Cumings, Mrs. John Bradley (Florence Briggs Th...  female  38.0   \n",
       "2       3                             Heikkinen, Miss. Laina  female  26.0   \n",
       "3       1       Futrelle, Mrs. Jacques Heath (Lily May Peel)  female  35.0   \n",
       "4       3                           Allen, Mr. William Henry    male  35.0   \n",
       "\n",
       "   SibSp  Parch            Ticket     Fare Cabin Embarked  \n",
       "0      1      0         A/5 21171   7.2500   NaN        S  \n",
       "1      1      0          PC 17599  71.2833   C85        C  \n",
       "2      0      0  STON/O2. 3101282   7.9250   NaN        S  \n",
       "3      1      0            113803  53.1000  C123        S  \n",
       "4      0      0            373450   8.0500   NaN        S  "
      ]
     },
<<<<<<< HEAD
     "execution_count": 2,
=======
     "execution_count": 1,
>>>>>>> ab7e9e6f95f5cadbd4c521ecb65e065459be2608
     "metadata": {},
     "output_type": "execute_result"
    }
   ],
   "source": [
    "# 做完特徵工程前的所有準備\n",
    "import pandas as pd\n",
    "import numpy as np\n",
    "import copy\n",
    "from sklearn.preprocessing import LabelEncoder, MinMaxScaler\n",
    "from sklearn.linear_model import LogisticRegression\n",
    "from sklearn.ensemble import RandomForestClassifier\n",
    "# 因為擬合(fit)與編碼(transform)需要分開, 因此不使用.get_dummy, 而採用 sklearn 的 OneHotEncoder\n",
    "from sklearn.preprocessing import OneHotEncoder\n",
    "from sklearn.model_selection import train_test_split\n",
    "from sklearn.metrics import roc_curve\n",
    "\n",
<<<<<<< HEAD
    "data_path = '/Users/shao/learning_python/ML marathon/'\n",
=======
    "data_path = 'D:\\\\learning_ai\\\\D29\\\\'\n",
>>>>>>> ab7e9e6f95f5cadbd4c521ecb65e065459be2608
    "df = pd.read_csv(data_path + 'titanic_train.csv')\n",
    "\n",
    "train_Y = df['Survived']\n",
    "df = df.drop(['PassengerId', 'Survived'] , axis=1)\n",
    "df.head()"
   ]
  },
  {
   "cell_type": "code",
<<<<<<< HEAD
   "execution_count": 3,
=======
   "execution_count": 2,
>>>>>>> ab7e9e6f95f5cadbd4c521ecb65e065459be2608
   "metadata": {},
   "outputs": [
    {
     "data": {
      "text/html": [
       "<div>\n",
       "<style scoped>\n",
       "    .dataframe tbody tr th:only-of-type {\n",
       "        vertical-align: middle;\n",
       "    }\n",
       "\n",
       "    .dataframe tbody tr th {\n",
       "        vertical-align: top;\n",
       "    }\n",
       "\n",
       "    .dataframe thead th {\n",
       "        text-align: right;\n",
       "    }\n",
       "</style>\n",
       "<table border=\"1\" class=\"dataframe\">\n",
       "  <thead>\n",
       "    <tr style=\"text-align: right;\">\n",
       "      <th></th>\n",
       "      <th>Pclass</th>\n",
       "      <th>Name</th>\n",
       "      <th>Sex</th>\n",
       "      <th>Age</th>\n",
       "      <th>SibSp</th>\n",
       "      <th>Parch</th>\n",
       "      <th>Ticket</th>\n",
       "      <th>Fare</th>\n",
       "      <th>Cabin</th>\n",
       "      <th>Embarked</th>\n",
       "    </tr>\n",
       "  </thead>\n",
       "  <tbody>\n",
       "    <tr>\n",
       "      <th>0</th>\n",
       "      <td>1.0</td>\n",
       "      <td>0.121348</td>\n",
       "      <td>1.0</td>\n",
       "      <td>0.283951</td>\n",
       "      <td>0.125</td>\n",
       "      <td>0.0</td>\n",
       "      <td>0.769118</td>\n",
       "      <td>0.014151</td>\n",
       "      <td>0.000000</td>\n",
       "      <td>1.000000</td>\n",
       "    </tr>\n",
       "    <tr>\n",
       "      <th>1</th>\n",
       "      <td>0.0</td>\n",
       "      <td>0.213483</td>\n",
       "      <td>0.0</td>\n",
       "      <td>0.481481</td>\n",
       "      <td>0.125</td>\n",
       "      <td>0.0</td>\n",
       "      <td>0.876471</td>\n",
       "      <td>0.139136</td>\n",
       "      <td>0.557823</td>\n",
       "      <td>0.333333</td>\n",
       "    </tr>\n",
       "    <tr>\n",
       "      <th>2</th>\n",
       "      <td>1.0</td>\n",
       "      <td>0.396629</td>\n",
       "      <td>0.0</td>\n",
       "      <td>0.333333</td>\n",
       "      <td>0.000</td>\n",
       "      <td>0.0</td>\n",
       "      <td>0.983824</td>\n",
       "      <td>0.015469</td>\n",
       "      <td>0.000000</td>\n",
       "      <td>1.000000</td>\n",
       "    </tr>\n",
       "    <tr>\n",
       "      <th>3</th>\n",
       "      <td>0.0</td>\n",
       "      <td>0.305618</td>\n",
       "      <td>0.0</td>\n",
       "      <td>0.444444</td>\n",
       "      <td>0.125</td>\n",
       "      <td>0.0</td>\n",
       "      <td>0.072059</td>\n",
       "      <td>0.103644</td>\n",
       "      <td>0.380952</td>\n",
       "      <td>1.000000</td>\n",
       "    </tr>\n",
       "    <tr>\n",
       "      <th>4</th>\n",
       "      <td>1.0</td>\n",
       "      <td>0.016854</td>\n",
       "      <td>1.0</td>\n",
       "      <td>0.444444</td>\n",
       "      <td>0.000</td>\n",
       "      <td>0.0</td>\n",
       "      <td>0.694118</td>\n",
       "      <td>0.015713</td>\n",
       "      <td>0.000000</td>\n",
       "      <td>1.000000</td>\n",
       "    </tr>\n",
       "  </tbody>\n",
       "</table>\n",
       "</div>"
      ],
      "text/plain": [
       "   Pclass      Name  Sex       Age  SibSp  Parch    Ticket      Fare  \\\n",
       "0     1.0  0.121348  1.0  0.283951  0.125    0.0  0.769118  0.014151   \n",
       "1     0.0  0.213483  0.0  0.481481  0.125    0.0  0.876471  0.139136   \n",
       "2     1.0  0.396629  0.0  0.333333  0.000    0.0  0.983824  0.015469   \n",
       "3     0.0  0.305618  0.0  0.444444  0.125    0.0  0.072059  0.103644   \n",
       "4     1.0  0.016854  1.0  0.444444  0.000    0.0  0.694118  0.015713   \n",
       "\n",
       "      Cabin  Embarked  \n",
       "0  0.000000  1.000000  \n",
       "1  0.557823  0.333333  \n",
       "2  0.000000  1.000000  \n",
       "3  0.380952  1.000000  \n",
       "4  0.000000  1.000000  "
      ]
     },
<<<<<<< HEAD
     "execution_count": 3,
=======
     "execution_count": 2,
>>>>>>> ab7e9e6f95f5cadbd4c521ecb65e065459be2608
     "metadata": {},
     "output_type": "execute_result"
    }
   ],
   "source": [
    "# 因為需要把類別型與數值型特徵都加入, 故使用最簡版的特徵工程\n",
    "LEncoder = LabelEncoder()\n",
    "MMEncoder = MinMaxScaler()\n",
    "for c in df.columns:\n",
    "    df[c] = df[c].fillna(-1)\n",
    "    if df[c].dtype == 'object':\n",
    "        df[c] = LEncoder.fit_transform(list(df[c].values))\n",
    "    df[c] = MMEncoder.fit_transform(df[c].values.reshape(-1, 1))\n",
    "df.head()"
   ]
  },
  {
   "cell_type": "code",
   "execution_count": 3,
   "metadata": {},
   "outputs": [],
   "source": [
    "train_X = df.values\n",
    "# 因為訓練邏輯斯迴歸時也要資料, 因此將訓練及切成三部分 train / val / test, 採用 test 驗證而非 k-fold 交叉驗證\n",
    "# train 用來訓練梯度提升樹, val 用來訓練邏輯斯迴歸, test 驗證效果\n",
    "train_X, test_X, train_Y, test_Y = train_test_split(train_X, train_Y, test_size=0.5)\n",
    "train_X, val_X, train_Y, val_Y = train_test_split(train_X, train_Y, test_size=0.5)"
   ]
  },
  {
   "cell_type": "markdown",
   "metadata": {
    "collapsed": true
   },
   "source": [
    "# 作業1\n",
    "* 請對照範例，完成隨機森林的鐵達尼生存率預測，以及對應的葉編碼+邏輯斯迴歸"
   ]
  },
  {
   "cell_type": "code",
   "execution_count": 5,
   "metadata": {},
   "outputs": [
    {
     "data": {
      "text/plain": [
       "LogisticRegression(max_iter=1000)"
      ]
     },
     "execution_count": 5,
     "metadata": {},
     "output_type": "execute_result"
    }
   ],
   "source": [
    "# 隨機森林(rf)擬合後, 再將葉編碼 (*.apply) 結果做獨熱 / 邏輯斯迴歸\n",
    "rf = RandomForestClassifier(n_estimators=20, min_samples_split=10, min_samples_leaf=5, \n",
    "                            max_features=4, max_depth=3, bootstrap=True)\n",
    "onehot = OneHotEncoder()\n",
    "lr = LogisticRegression(solver='lbfgs', max_iter=1000)\n",
    "\n",
    "\"\"\"\n",
    "Your Code Here (Hint : 隨機森林的葉編碼(.apply)不需要加上[:, :, 0], 直接用rf.apply()調用即可, 本作業其餘寫法相同)\n",
    "\"\"\"\n",
    "\n",
    "rf.fit(train_X, train_Y)\n",
    "onehot.fit(rf.apply(train_X))\n",
    "lr.fit(onehot.transform(rf.apply(val_X)), val_Y)"
   ]
  },
  {
   "cell_type": "code",
   "execution_count": 21,
   "metadata": {},
   "outputs": [],
   "source": [
    "# 將隨機森林+葉編碼+邏輯斯迴歸結果輸出\n",
    "\"\"\"\n",
    "Your Code Here \n",
    "\"\"\"\n",
    "pred_rf_lr = lr.predict_proba(onehot.transform(rf.apply(test_X)))[:,1]\n",
    "fpr_rf_lr, tpr_rf_lr, _ = roc_curve(test_Y, pred_rf_lr)\n",
    "\n",
    "# 將隨機森林結果輸出\n",
    "\"\"\"\n",
    "Your Code Here \n",
    "\"\"\"\n",
    "pred_rf = rf.predict_proba(test_X)[:,1]\n",
    "fpr_rf, tpr_rf, _ = roc_curve(test_Y, pred_rf)\n",
    "\n"
   ]
  },
  {
   "cell_type": "markdown",
   "metadata": {},
   "source": [
    "# 作業2\n",
    "* 上述的結果，葉編碼是否有提高預測的正確性呢?"
   ]
  },
  {
   "cell_type": "code",
   "execution_count": 22,
   "metadata": {},
   "outputs": [
    {
     "data": {
      "image/png": "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\n",
      "text/plain": [
       "<Figure size 432x288 with 1 Axes>"
      ]
     },
     "metadata": {
      "needs_background": "light"
     },
     "output_type": "display_data"
    }
   ],
   "source": [
    "import matplotlib.pyplot as plt\n",
    "# 將結果繪圖\n",
    "\"\"\"\n",
    "Your Code Here \n",
    "\"\"\"\n",
    "plt.plot([0, 1], [0, 1], 'k--')\n",
    "plt.plot(fpr_rf, tpr_rf, label = 'RF')\n",
    "plt.plot(fpr_rf_lr, tpr_rf_lr, label = 'RF + LR')\n",
    "\n",
    "plt.xlabel('False positive rate')\n",
    "plt.ylabel('True positive rate')\n",
    "plt.title('ROC curve')\n",
    "plt.legend(loc='best')\n",
    "plt.show()"
   ]
  },
  {
   "cell_type": "code",
   "execution_count": null,
   "metadata": {
    "collapsed": true
   },
   "outputs": [],
   "source": []
  }
 ],
 "metadata": {
  "kernelspec": {
   "display_name": "Python 3",
   "language": "python",
   "name": "python3"
  },
  "language_info": {
   "codemirror_mode": {
    "name": "ipython",
    "version": 3
   },
   "file_extension": ".py",
   "mimetype": "text/x-python",
   "name": "python",
   "nbconvert_exporter": "python",
   "pygments_lexer": "ipython3",
<<<<<<< HEAD
   "version": "3.8.3"
=======
   "version": "3.7.1"
>>>>>>> ab7e9e6f95f5cadbd4c521ecb65e065459be2608
  }
 },
 "nbformat": 4,
 "nbformat_minor": 2
}
