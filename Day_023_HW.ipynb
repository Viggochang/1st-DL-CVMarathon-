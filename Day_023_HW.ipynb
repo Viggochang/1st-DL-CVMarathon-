{
 "cells": [
  {
   "cell_type": "markdown",
   "metadata": {
    "collapsed": true
   },
   "source": [
    "# 作業 : (Kaggle)鐵達尼生存預測 \n",
    "https://www.kaggle.com/c/titanic"
   ]
  },
  {
   "cell_type": "markdown",
   "metadata": {},
   "source": [
    "# [作業目標]\n",
    "- 試著模仿範例寫法, 在鐵達尼生存預測中, 觀察降低偏態的影響"
   ]
  },
  {
   "cell_type": "markdown",
   "metadata": {},
   "source": [
    "# [作業重點]\n",
    "- 觀察使用log1p降偏態時, 對於分布與迴歸分數的影響 (In[6], Out[6])\n",
    "- 修正區塊中的資料問題後, 觀察以box-cox降偏態, 對於分布與迴歸分數的影響 (In[7], Out[7])"
   ]
  },
  {
   "cell_type": "code",
<<<<<<< HEAD
   "execution_count": 1,
=======
   "execution_count": 3,
>>>>>>> ab7e9e6f95f5cadbd4c521ecb65e065459be2608
   "metadata": {},
   "outputs": [
    {
     "data": {
      "text/html": [
       "<div>\n",
       "<style scoped>\n",
       "    .dataframe tbody tr th:only-of-type {\n",
       "        vertical-align: middle;\n",
       "    }\n",
       "\n",
       "    .dataframe tbody tr th {\n",
       "        vertical-align: top;\n",
       "    }\n",
       "\n",
       "    .dataframe thead th {\n",
       "        text-align: right;\n",
       "    }\n",
       "</style>\n",
       "<table border=\"1\" class=\"dataframe\">\n",
       "  <thead>\n",
       "    <tr style=\"text-align: right;\">\n",
       "      <th></th>\n",
       "      <th>Pclass</th>\n",
       "      <th>Name</th>\n",
       "      <th>Sex</th>\n",
       "      <th>Age</th>\n",
       "      <th>SibSp</th>\n",
       "      <th>Parch</th>\n",
       "      <th>Ticket</th>\n",
       "      <th>Fare</th>\n",
       "      <th>Cabin</th>\n",
       "      <th>Embarked</th>\n",
       "    </tr>\n",
       "  </thead>\n",
       "  <tbody>\n",
       "    <tr>\n",
       "      <th>0</th>\n",
       "      <td>3</td>\n",
       "      <td>Braund, Mr. Owen Harris</td>\n",
       "      <td>male</td>\n",
       "      <td>22.0</td>\n",
       "      <td>1</td>\n",
       "      <td>0</td>\n",
       "      <td>A/5 21171</td>\n",
       "      <td>7.2500</td>\n",
       "      <td>NaN</td>\n",
       "      <td>S</td>\n",
       "    </tr>\n",
       "    <tr>\n",
       "      <th>1</th>\n",
       "      <td>1</td>\n",
       "      <td>Cumings, Mrs. John Bradley (Florence Briggs Th...</td>\n",
       "      <td>female</td>\n",
       "      <td>38.0</td>\n",
       "      <td>1</td>\n",
       "      <td>0</td>\n",
       "      <td>PC 17599</td>\n",
       "      <td>71.2833</td>\n",
       "      <td>C85</td>\n",
       "      <td>C</td>\n",
       "    </tr>\n",
       "    <tr>\n",
       "      <th>2</th>\n",
       "      <td>3</td>\n",
       "      <td>Heikkinen, Miss. Laina</td>\n",
       "      <td>female</td>\n",
       "      <td>26.0</td>\n",
       "      <td>0</td>\n",
       "      <td>0</td>\n",
       "      <td>STON/O2. 3101282</td>\n",
       "      <td>7.9250</td>\n",
       "      <td>NaN</td>\n",
       "      <td>S</td>\n",
       "    </tr>\n",
       "    <tr>\n",
       "      <th>3</th>\n",
       "      <td>1</td>\n",
       "      <td>Futrelle, Mrs. Jacques Heath (Lily May Peel)</td>\n",
       "      <td>female</td>\n",
       "      <td>35.0</td>\n",
       "      <td>1</td>\n",
       "      <td>0</td>\n",
       "      <td>113803</td>\n",
       "      <td>53.1000</td>\n",
       "      <td>C123</td>\n",
       "      <td>S</td>\n",
       "    </tr>\n",
       "    <tr>\n",
       "      <th>4</th>\n",
       "      <td>3</td>\n",
       "      <td>Allen, Mr. William Henry</td>\n",
       "      <td>male</td>\n",
       "      <td>35.0</td>\n",
       "      <td>0</td>\n",
       "      <td>0</td>\n",
       "      <td>373450</td>\n",
       "      <td>8.0500</td>\n",
       "      <td>NaN</td>\n",
       "      <td>S</td>\n",
       "    </tr>\n",
       "  </tbody>\n",
       "</table>\n",
       "</div>"
      ],
      "text/plain": [
       "   Pclass                                               Name     Sex   Age  \\\n",
       "0       3                            Braund, Mr. Owen Harris    male  22.0   \n",
       "1       1  Cumings, Mrs. John Bradley (Florence Briggs Th...  female  38.0   \n",
       "2       3                             Heikkinen, Miss. Laina  female  26.0   \n",
       "3       1       Futrelle, Mrs. Jacques Heath (Lily May Peel)  female  35.0   \n",
       "4       3                           Allen, Mr. William Henry    male  35.0   \n",
       "\n",
       "   SibSp  Parch            Ticket     Fare Cabin Embarked  \n",
       "0      1      0         A/5 21171   7.2500   NaN        S  \n",
       "1      1      0          PC 17599  71.2833   C85        C  \n",
       "2      0      0  STON/O2. 3101282   7.9250   NaN        S  \n",
       "3      1      0            113803  53.1000  C123        S  \n",
       "4      0      0            373450   8.0500   NaN        S  "
      ]
     },
<<<<<<< HEAD
     "execution_count": 1,
=======
     "execution_count": 3,
>>>>>>> ab7e9e6f95f5cadbd4c521ecb65e065459be2608
     "metadata": {},
     "output_type": "execute_result"
    }
   ],
   "source": [
    "# 做完特徵工程前的所有準備 (與前範例相同)\n",
    "import pandas as pd\n",
    "import numpy as np\n",
    "import copy\n",
    "from sklearn.preprocessing import MinMaxScaler\n",
    "from sklearn.model_selection import cross_val_score\n",
    "from sklearn.linear_model import LogisticRegression\n",
    "\n",
    "from sklearn import metrics\n",
    "import warnings\n",
    "warnings.filterwarnings(\"ignore\")\n",
    "\n",
<<<<<<< HEAD
    "data_path = '/Users/shao/learning_python/ML marathon/'\n",
=======
    "data_path = 'D:\\\\learning_ai\\\\D12\\\\'\n",
>>>>>>> ab7e9e6f95f5cadbd4c521ecb65e065459be2608
    "df_train = pd.read_csv(data_path + 'titanic_train.csv')\n",
    "df_test = pd.read_csv(data_path + 'titanic_test.csv')\n",
    "\n",
    "train_Y = df_train['Survived']\n",
    "ids = df_test['PassengerId']\n",
    "df_train = df_train.drop(['PassengerId', 'Survived'] , axis=1)\n",
    "df_test = df_test.drop(['PassengerId'] , axis=1)\n",
    "df = pd.concat([df_train,df_test])\n",
    "df.head()\n",
    "\n"
   ]
  },
  {
   "cell_type": "code",
<<<<<<< HEAD
   "execution_count": 3,
=======
   "execution_count": 10,
>>>>>>> ab7e9e6f95f5cadbd4c521ecb65e065459be2608
   "metadata": {
    "scrolled": true
   },
   "outputs": [
    {
     "name": "stdout",
     "output_type": "stream",
     "text": [
      "5 Numeric Features : ['Pclass', 'Age', 'SibSp', 'Parch', 'Fare']\n",
      "\n"
     ]
    },
    {
     "data": {
      "text/html": [
       "<div>\n",
       "<style scoped>\n",
       "    .dataframe tbody tr th:only-of-type {\n",
       "        vertical-align: middle;\n",
       "    }\n",
       "\n",
       "    .dataframe tbody tr th {\n",
       "        vertical-align: top;\n",
       "    }\n",
       "\n",
       "    .dataframe thead th {\n",
       "        text-align: right;\n",
       "    }\n",
       "</style>\n",
       "<table border=\"1\" class=\"dataframe\">\n",
       "  <thead>\n",
       "    <tr style=\"text-align: right;\">\n",
       "      <th></th>\n",
       "      <th>Pclass</th>\n",
       "      <th>Age</th>\n",
       "      <th>SibSp</th>\n",
       "      <th>Parch</th>\n",
       "      <th>Fare</th>\n",
       "    </tr>\n",
       "  </thead>\n",
       "  <tbody>\n",
       "    <tr>\n",
       "      <th>0</th>\n",
       "      <td>3</td>\n",
       "      <td>22.0</td>\n",
       "      <td>1</td>\n",
       "      <td>0</td>\n",
       "      <td>7.2500</td>\n",
       "    </tr>\n",
       "    <tr>\n",
       "      <th>1</th>\n",
       "      <td>1</td>\n",
       "      <td>38.0</td>\n",
       "      <td>1</td>\n",
       "      <td>0</td>\n",
       "      <td>71.2833</td>\n",
       "    </tr>\n",
       "    <tr>\n",
       "      <th>2</th>\n",
       "      <td>3</td>\n",
       "      <td>26.0</td>\n",
       "      <td>0</td>\n",
       "      <td>0</td>\n",
       "      <td>7.9250</td>\n",
       "    </tr>\n",
       "    <tr>\n",
       "      <th>3</th>\n",
       "      <td>1</td>\n",
       "      <td>35.0</td>\n",
       "      <td>1</td>\n",
       "      <td>0</td>\n",
       "      <td>53.1000</td>\n",
       "    </tr>\n",
       "    <tr>\n",
       "      <th>4</th>\n",
       "      <td>3</td>\n",
       "      <td>35.0</td>\n",
       "      <td>0</td>\n",
       "      <td>0</td>\n",
       "      <td>8.0500</td>\n",
       "    </tr>\n",
       "  </tbody>\n",
       "</table>\n",
       "</div>"
      ],
      "text/plain": [
       "   Pclass   Age  SibSp  Parch     Fare\n",
       "0       3  22.0      1      0   7.2500\n",
       "1       1  38.0      1      0  71.2833\n",
       "2       3  26.0      0      0   7.9250\n",
       "3       1  35.0      1      0  53.1000\n",
       "4       3  35.0      0      0   8.0500"
      ]
     },
<<<<<<< HEAD
     "execution_count": 3,
=======
     "execution_count": 10,
>>>>>>> ab7e9e6f95f5cadbd4c521ecb65e065459be2608
     "metadata": {},
     "output_type": "execute_result"
    }
   ],
   "source": [
    "#只取 int64, float64 兩種數值型欄位, 存於 num_features 中\n",
    "num_features = []\n",
    "for dtype, feature in zip(df.dtypes, df.columns):\n",
    "    if dtype == \"int64\" or dtype == \"float64\":\n",
    "        num_features.append(feature)\n",
    "print(f'{len(num_features)} Numeric Features : {num_features}\\n')\n",
    "\n",
    "# 削減文字型欄位, 只剩數值型欄位        \n",
<<<<<<< HEAD
    "df = df[num_features]\n",
    "df = df.fillna(0)\n",
    "\n",
    "#MMEncoder = MinMaxScaler()\n",
=======
    "df = df[num_feature]\n",
    "df = df.fillna(0)\n",
    "\n",
    "MMEncoder = MinMaxScaler()\n",
>>>>>>> ab7e9e6f95f5cadbd4c521ecb65e065459be2608
    "train_num = train_Y.shape[0]\n",
    "df.head()\n",
    "    "
   ]
  },
  {
   "cell_type": "code",
<<<<<<< HEAD
   "execution_count": 4,
=======
   "execution_count": 11,
>>>>>>> ab7e9e6f95f5cadbd4c521ecb65e065459be2608
   "metadata": {},
   "outputs": [
    {
     "data": {
<<<<<<< HEAD
      "image/png": "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\n",
=======
      "image/png": "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\n",
>>>>>>> ab7e9e6f95f5cadbd4c521ecb65e065459be2608
      "text/plain": [
       "<Figure size 432x288 with 1 Axes>"
      ]
     },
     "metadata": {
      "needs_background": "light"
     },
     "output_type": "display_data"
    }
   ],
   "source": [
    "# 顯示 Fare 與目標值的散佈圖\n",
    "import seaborn as sns\n",
    "import matplotlib.pyplot as plt\n",
    "sns.distplot(df['Fare'][:train_num])\n",
    "plt.show()"
   ]
  },
  {
   "cell_type": "code",
<<<<<<< HEAD
   "execution_count": 10,
=======
   "execution_count": 16,
>>>>>>> ab7e9e6f95f5cadbd4c521ecb65e065459be2608
   "metadata": {},
   "outputs": [
    {
     "data": {
      "text/plain": [
<<<<<<< HEAD
       "0.7015378821166279"
      ]
     },
     "execution_count": 10,
=======
       "0.7016289882888318"
      ]
     },
     "execution_count": 16,
>>>>>>> ab7e9e6f95f5cadbd4c521ecb65e065459be2608
     "metadata": {},
     "output_type": "execute_result"
    }
   ],
   "source": [
    "# 計算基礎分數\n",
<<<<<<< HEAD
    "MMEncoder = MinMaxScaler()\n",
=======
>>>>>>> ab7e9e6f95f5cadbd4c521ecb65e065459be2608
    "df_mm = MMEncoder.fit_transform(df)\n",
    "train_X = df_mm[:train_num]\n",
    "estimator = LogisticRegression()\n",
    "cross_val_score(estimator, train_X, train_Y, cv=5).mean()"
   ]
  },
  {
   "cell_type": "markdown",
   "metadata": {},
   "source": [
    "# 作業1 \n",
    "* 試著在鐵達尼的票價 (Fare) 欄位中使用對數去偏 (log1p) , 結果是否更好?"
   ]
  },
  {
   "cell_type": "code",
<<<<<<< HEAD
   "execution_count": 12,
=======
   "execution_count": 17,
>>>>>>> ab7e9e6f95f5cadbd4c521ecb65e065459be2608
   "metadata": {},
   "outputs": [
    {
     "data": {
<<<<<<< HEAD
      "image/png": "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\n",
=======
      "image/png": "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\n",
>>>>>>> ab7e9e6f95f5cadbd4c521ecb65e065459be2608
      "text/plain": [
       "<Figure size 432x288 with 1 Axes>"
      ]
     },
     "metadata": {
      "needs_background": "light"
     },
     "output_type": "display_data"
    },
    {
     "data": {
      "text/plain": [
<<<<<<< HEAD
       "0.710545477371163"
      ]
     },
     "execution_count": 12,
=======
       "0.7106367963253961"
      ]
     },
     "execution_count": 17,
>>>>>>> ab7e9e6f95f5cadbd4c521ecb65e065459be2608
     "metadata": {},
     "output_type": "execute_result"
    }
   ],
   "source": [
    "# 將 Fare 取 log1p 後, 看散佈圖, 並計算分數\n",
    "df_fixed = copy.deepcopy(df)\n",
    "\"\"\"\n",
    "Your Code Here, transform df_fixed['Fare'] with log1p\n",
    "\"\"\"\n",
    "df_fixed['Fare'] = np.log1p(df_fixed['Fare'])\n",
    "sns.distplot(df_fixed['Fare'][:train_num])\n",
    "plt.show()\n",
    "\n",
    "df_fixed = MMEncoder.fit_transform(df_fixed)\n",
    "train_X = df_fixed[:train_num]\n",
    "estimator = LogisticRegression()\n",
    "cross_val_score(estimator, train_X, train_Y, cv = 5).mean()"
   ]
  },
  {
   "cell_type": "markdown",
   "metadata": {},
   "source": [
    "# 作業2\n",
    "* 最後的 boxcox 區塊直接執行會造成錯誤, 起因為輸入值有負值, 請問如何修正後可以使用 boxcox? (Hint : 試圖修正資料)"
   ]
  },
  {
   "cell_type": "code",
   "execution_count": 20,
   "metadata": {},
   "outputs": [
    {
     "data": {
      "image/png": "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\n",
      "text/plain": [
       "<Figure size 432x288 with 1 Axes>"
      ]
     },
     "metadata": {
      "needs_background": "light"
     },
     "output_type": "display_data"
    },
    {
     "data": {
      "text/plain": [
       "0.7095195488169852"
      ]
     },
     "execution_count": 20,
     "metadata": {},
     "output_type": "execute_result"
    }
   ],
   "source": [
    "# 將 Fare 取 boxcox 後, 看散佈圖, 並計算分數 (執行會有 error, 請試圖修正)\n",
    "from scipy import stats\n",
    "df_fixed = copy.deepcopy(df)\n",
    "\"\"\"\n",
    "Your Code Here, fix the error\n",
    "\"\"\"\n",
    "df_fixed['Fare'] += 1\n",
    "df_fixed['Fare'] = stats.boxcox(df_fixed['Fare'])[0]\n",
    "sns.distplot(df_fixed['Fare'][:train_num])\n",
    "plt.show()\n",
    "\n",
    "df_fixed = MMEncoder.fit_transform(df_fixed)\n",
    "train_X = df_fixed[:train_num]\n",
    "estimator = LogisticRegression()\n",
    "cross_val_score(estimator, train_X, train_Y, cv=5).mean()"
   ]
  }
 ],
 "metadata": {
  "kernelspec": {
   "display_name": "Python 3",
   "language": "python",
   "name": "python3"
  },
  "language_info": {
   "codemirror_mode": {
    "name": "ipython",
    "version": 3
   },
   "file_extension": ".py",
   "mimetype": "text/x-python",
   "name": "python",
   "nbconvert_exporter": "python",
   "pygments_lexer": "ipython3",
<<<<<<< HEAD
   "version": "3.8.3"
=======
   "version": "3.7.1"
>>>>>>> ab7e9e6f95f5cadbd4c521ecb65e065459be2608
  }
 },
 "nbformat": 4,
 "nbformat_minor": 2
}
